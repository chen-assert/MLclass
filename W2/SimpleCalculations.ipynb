{
 "cells": [
  {
   "cell_type": "code",
   "execution_count": 1,
   "metadata": {},
   "outputs": [],
   "source": [
    "#Use the result of the previous exercise \"property_data1.csv\" and do the following"
   ]
  },
  {
   "cell_type": "code",
   "execution_count": 9,
   "metadata": {},
   "outputs": [],
   "source": [
    "import pandas as pd\n",
    "import numpy as np"
   ]
  },
  {
   "cell_type": "code",
   "execution_count": 13,
   "metadata": {},
   "outputs": [
    {
     "data": {
      "text/html": [
       "<div>\n",
       "<style scoped>\n",
       "    .dataframe tbody tr th:only-of-type {\n",
       "        vertical-align: middle;\n",
       "    }\n",
       "\n",
       "    .dataframe tbody tr th {\n",
       "        vertical-align: top;\n",
       "    }\n",
       "\n",
       "    .dataframe thead th {\n",
       "        text-align: right;\n",
       "    }\n",
       "</style>\n",
       "<table border=\"1\" class=\"dataframe\">\n",
       "  <thead>\n",
       "    <tr style=\"text-align: right;\">\n",
       "      <th></th>\n",
       "      <th>Unnamed: 0</th>\n",
       "      <th>PID</th>\n",
       "      <th>ST_NUM</th>\n",
       "      <th>ST_NAME</th>\n",
       "      <th>OWN_OCCUPIED</th>\n",
       "      <th>NUM_BEDROOMS</th>\n",
       "      <th>NUM_BATH</th>\n",
       "      <th>SQ_FT</th>\n",
       "    </tr>\n",
       "  </thead>\n",
       "  <tbody>\n",
       "    <tr>\n",
       "      <th>0</th>\n",
       "      <td>0</td>\n",
       "      <td>1</td>\n",
       "      <td>104.0</td>\n",
       "      <td>PUTNAM</td>\n",
       "      <td>Y</td>\n",
       "      <td>3</td>\n",
       "      <td>1</td>\n",
       "      <td>1000.0</td>\n",
       "    </tr>\n",
       "    <tr>\n",
       "      <th>1</th>\n",
       "      <td>1</td>\n",
       "      <td>2</td>\n",
       "      <td>197.0</td>\n",
       "      <td>LEXINGTON</td>\n",
       "      <td>N</td>\n",
       "      <td>3</td>\n",
       "      <td>1</td>\n",
       "      <td>950.0</td>\n",
       "    </tr>\n",
       "    <tr>\n",
       "      <th>2</th>\n",
       "      <td>2</td>\n",
       "      <td>3</td>\n",
       "      <td>125.0</td>\n",
       "      <td>LEXINGTON</td>\n",
       "      <td>N</td>\n",
       "      <td>1</td>\n",
       "      <td>1</td>\n",
       "      <td>850.0</td>\n",
       "    </tr>\n",
       "    <tr>\n",
       "      <th>3</th>\n",
       "      <td>3</td>\n",
       "      <td>4</td>\n",
       "      <td>201.0</td>\n",
       "      <td>BERKELEY</td>\n",
       "      <td>Y</td>\n",
       "      <td>1</td>\n",
       "      <td>1</td>\n",
       "      <td>700.0</td>\n",
       "    </tr>\n",
       "    <tr>\n",
       "      <th>4</th>\n",
       "      <td>4</td>\n",
       "      <td>5</td>\n",
       "      <td>203.0</td>\n",
       "      <td>BERKELEY</td>\n",
       "      <td>Y</td>\n",
       "      <td>3</td>\n",
       "      <td>2</td>\n",
       "      <td>1600.0</td>\n",
       "    </tr>\n",
       "  </tbody>\n",
       "</table>\n",
       "</div>"
      ],
      "text/plain": [
       "   Unnamed: 0  PID  ST_NUM    ST_NAME OWN_OCCUPIED  NUM_BEDROOMS  NUM_BATH  \\\n",
       "0           0    1   104.0     PUTNAM            Y             3         1   \n",
       "1           1    2   197.0  LEXINGTON            N             3         1   \n",
       "2           2    3   125.0  LEXINGTON            N             1         1   \n",
       "3           3    4   201.0   BERKELEY            Y             1         1   \n",
       "4           4    5   203.0   BERKELEY            Y             3         2   \n",
       "\n",
       "    SQ_FT  \n",
       "0  1000.0  \n",
       "1   950.0  \n",
       "2   850.0  \n",
       "3   700.0  \n",
       "4  1600.0  "
      ]
     },
     "execution_count": 13,
     "metadata": {},
     "output_type": "execute_result"
    }
   ],
   "source": [
    "#Use your own path.\n",
    "df = pd.read_csv(\"property_data1.csv\")\n",
    "df.head()"
   ]
  },
  {
   "cell_type": "code",
   "execution_count": 14,
   "metadata": {},
   "outputs": [
    {
     "name": "stdout",
     "output_type": "stream",
     "text": [
      "Mean number of bedrooms: 1.7777777777777777\n"
     ]
    }
   ],
   "source": [
    "#Mean number of bedrooms\n",
    "mean1 = df['NUM_BEDROOMS'].mean()\n",
    "print('Mean number of bedrooms: '+ str(mean1))"
   ]
  },
  {
   "cell_type": "code",
   "execution_count": 15,
   "metadata": {},
   "outputs": [
    {
     "name": "stdout",
     "output_type": "stream",
     "text": [
      "Sum of bathrooms: 11\n"
     ]
    }
   ],
   "source": [
    "#Sum of bathrooms\n",
    "sum1 = df['NUM_BATH'].sum()\n",
    "print('Sum of bathrooms: '+ str(sum1))"
   ]
  },
  {
   "cell_type": "code",
   "execution_count": 16,
   "metadata": {},
   "outputs": [
    {
     "name": "stdout",
     "output_type": "stream",
     "text": [
      "Maximum number of bedrooms: 3\n",
      "Minimum number of bedrooms: 1\n"
     ]
    }
   ],
   "source": [
    "#Maximum number of bedroom\n",
    "max1 = df['NUM_BEDROOMS'].max()\n",
    "print('Maximum number of bedrooms: '+ str(max1))\n",
    "\n",
    "#Maximum number of bedroom\n",
    "min1 = df['NUM_BEDROOMS'].min()\n",
    "print('Minimum number of bedrooms: '+ str(min1))"
   ]
  },
  {
   "cell_type": "code",
   "execution_count": 17,
   "metadata": {},
   "outputs": [
    {
     "name": "stdout",
     "output_type": "stream",
     "text": [
      "Count of students: 9\n"
     ]
    }
   ],
   "source": [
    "#Count the number of students\n",
    "count1 = df['ST_NUM'].count()\n",
    "print('Count of students: '+ str(count1))"
   ]
  },
  {
   "cell_type": "code",
   "execution_count": 18,
   "metadata": {},
   "outputs": [
    {
     "name": "stdout",
     "output_type": "stream",
     "text": [
      "Median of square feet: 950.0\n",
      "Standard deviation of square feet: 374.16573867739413\n",
      "Variance of square feet: 140000.0\n"
     ]
    }
   ],
   "source": [
    "#Median, standard deviation and variance of square feet\n",
    "median1 = df['SQ_FT'].median()\n",
    "print('Median of square feet: '+ str(median1))\n",
    "\n",
    "std1 = df['SQ_FT'].std()\n",
    "print('Standard deviation of square feet: '+ str(std1))\n",
    "\n",
    "var1 = df['SQ_FT'].var()\n",
    "print('Variance of square feet: '+ str(var1))"
   ]
  },
  {
   "cell_type": "code",
   "execution_count": 22,
   "metadata": {},
   "outputs": [
    {
     "name": "stdout",
     "output_type": "stream",
     "text": [
      "Sum of bedrooms, grouped by the owner occupied: OWN_OCCUPIED\n",
      "N     4\n",
      "Y    12\n",
      "Name: NUM_BEDROOMS, dtype: int64\n",
      "Count of bedrooms, grouped by the owner occupied: OWN_OCCUPIED\n",
      "N    2\n",
      "Y    7\n",
      "Name: NUM_BEDROOMS, dtype: int64\n"
     ]
    }
   ],
   "source": [
    "#Sum of bedroom, grouped by the owner occupied\n",
    "groupby_sum1 = df.groupby('OWN_OCCUPIED')['NUM_BEDROOMS'].sum()\n",
    "print ('Sum of bedrooms, grouped by the owner occupied: ' + str(groupby_sum1))\n",
    "\n",
    "#Count of bedroom, grouped by the owner occupied\n",
    "groupby_count1 = df.groupby('OWN_OCCUPIED')['NUM_BEDROOMS'].count()\n",
    "print ('Count of bedrooms, grouped by the owner occupied: ' + str(groupby_count1))"
   ]
  },
  {
   "cell_type": "code",
   "execution_count": 23,
   "metadata": {},
   "outputs": [
    {
     "data": {
      "text/plain": [
       "0    4\n",
       "1    4\n",
       "2    2\n",
       "3    2\n",
       "4    5\n",
       "5    2\n",
       "6    3\n",
       "7    2\n",
       "8    3\n",
       "Name: All_Rooms, dtype: int64"
      ]
     },
     "execution_count": 23,
     "metadata": {},
     "output_type": "execute_result"
    }
   ],
   "source": [
    "#Sum of bedrooms and bathrooms in each house\n",
    "allrooms = (df.NUM_BEDROOMS + df.NUM_BATH)\n",
    "df['All_Rooms'] = allrooms\n",
    "df['All_Rooms']"
   ]
  },
  {
   "cell_type": "code",
   "execution_count": 26,
   "metadata": {},
   "outputs": [],
   "source": [
    "df.to_csv(\"property_data2.csv\")"
   ]
  },
  {
   "cell_type": "code",
   "execution_count": 27,
   "metadata": {},
   "outputs": [
    {
     "data": {
      "text/html": [
       "<div>\n",
       "<style scoped>\n",
       "    .dataframe tbody tr th:only-of-type {\n",
       "        vertical-align: middle;\n",
       "    }\n",
       "\n",
       "    .dataframe tbody tr th {\n",
       "        vertical-align: top;\n",
       "    }\n",
       "\n",
       "    .dataframe thead th {\n",
       "        text-align: right;\n",
       "    }\n",
       "</style>\n",
       "<table border=\"1\" class=\"dataframe\">\n",
       "  <thead>\n",
       "    <tr style=\"text-align: right;\">\n",
       "      <th></th>\n",
       "      <th>Unnamed: 0</th>\n",
       "      <th>PID</th>\n",
       "      <th>ST_NUM</th>\n",
       "      <th>ST_NAME</th>\n",
       "      <th>OWN_OCCUPIED</th>\n",
       "      <th>NUM_BEDROOMS</th>\n",
       "      <th>NUM_BATH</th>\n",
       "      <th>SQ_FT</th>\n",
       "      <th>All_Rooms</th>\n",
       "    </tr>\n",
       "  </thead>\n",
       "  <tbody>\n",
       "    <tr>\n",
       "      <th>0</th>\n",
       "      <td>0</td>\n",
       "      <td>1</td>\n",
       "      <td>104.0</td>\n",
       "      <td>PUTNAM</td>\n",
       "      <td>Y</td>\n",
       "      <td>3</td>\n",
       "      <td>1</td>\n",
       "      <td>1000.0</td>\n",
       "      <td>4</td>\n",
       "    </tr>\n",
       "    <tr>\n",
       "      <th>1</th>\n",
       "      <td>1</td>\n",
       "      <td>2</td>\n",
       "      <td>197.0</td>\n",
       "      <td>LEXINGTON</td>\n",
       "      <td>N</td>\n",
       "      <td>3</td>\n",
       "      <td>1</td>\n",
       "      <td>950.0</td>\n",
       "      <td>4</td>\n",
       "    </tr>\n",
       "    <tr>\n",
       "      <th>2</th>\n",
       "      <td>2</td>\n",
       "      <td>3</td>\n",
       "      <td>125.0</td>\n",
       "      <td>LEXINGTON</td>\n",
       "      <td>N</td>\n",
       "      <td>1</td>\n",
       "      <td>1</td>\n",
       "      <td>850.0</td>\n",
       "      <td>2</td>\n",
       "    </tr>\n",
       "    <tr>\n",
       "      <th>3</th>\n",
       "      <td>3</td>\n",
       "      <td>4</td>\n",
       "      <td>201.0</td>\n",
       "      <td>BERKELEY</td>\n",
       "      <td>Y</td>\n",
       "      <td>1</td>\n",
       "      <td>1</td>\n",
       "      <td>700.0</td>\n",
       "      <td>2</td>\n",
       "    </tr>\n",
       "    <tr>\n",
       "      <th>4</th>\n",
       "      <td>4</td>\n",
       "      <td>5</td>\n",
       "      <td>203.0</td>\n",
       "      <td>BERKELEY</td>\n",
       "      <td>Y</td>\n",
       "      <td>3</td>\n",
       "      <td>2</td>\n",
       "      <td>1600.0</td>\n",
       "      <td>5</td>\n",
       "    </tr>\n",
       "  </tbody>\n",
       "</table>\n",
       "</div>"
      ],
      "text/plain": [
       "   Unnamed: 0  PID  ST_NUM    ST_NAME OWN_OCCUPIED  NUM_BEDROOMS  NUM_BATH  \\\n",
       "0           0    1   104.0     PUTNAM            Y             3         1   \n",
       "1           1    2   197.0  LEXINGTON            N             3         1   \n",
       "2           2    3   125.0  LEXINGTON            N             1         1   \n",
       "3           3    4   201.0   BERKELEY            Y             1         1   \n",
       "4           4    5   203.0   BERKELEY            Y             3         2   \n",
       "\n",
       "    SQ_FT  All_Rooms  \n",
       "0  1000.0          4  \n",
       "1   950.0          4  \n",
       "2   850.0          2  \n",
       "3   700.0          2  \n",
       "4  1600.0          5  "
      ]
     },
     "execution_count": 27,
     "metadata": {},
     "output_type": "execute_result"
    }
   ],
   "source": [
    "df.head()"
   ]
  },
  {
   "cell_type": "code",
   "execution_count": null,
   "metadata": {},
   "outputs": [],
   "source": []
  }
 ],
 "metadata": {
  "kernelspec": {
   "display_name": "Python 3",
   "language": "python",
   "name": "python3"
  },
  "language_info": {
   "codemirror_mode": {
    "name": "ipython",
    "version": 3
   },
   "file_extension": ".py",
   "mimetype": "text/x-python",
   "name": "python",
   "nbconvert_exporter": "python",
   "pygments_lexer": "ipython3",
   "version": "3.6.3"
  }
 },
 "nbformat": 4,
 "nbformat_minor": 2
}

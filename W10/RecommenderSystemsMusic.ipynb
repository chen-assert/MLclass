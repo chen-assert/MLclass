{
 "cells": [
  {
   "cell_type": "code",
   "execution_count": 26,
   "metadata": {
    "collapsed": true,
    "pycharm": {
     "is_executing": false
    }
   },
   "outputs": [
    {
     "data": {
      "text/plain": "   id               name                                         url  \\\n0   1       MALICE MIZER       http://www.last.fm/music/MALICE+MIZER   \n1   2    Diary of Dreams    http://www.last.fm/music/Diary+of+Dreams   \n2   3  Carpathian Forest  http://www.last.fm/music/Carpathian+Forest   \n3   4       Moi dix Mois       http://www.last.fm/music/Moi+dix+Mois   \n4   5        Bella Morte        http://www.last.fm/music/Bella+Morte   \n\n                                          pictureURL  \n0    http://userserve-ak.last.fm/serve/252/10808.jpg  \n1  http://userserve-ak.last.fm/serve/252/3052066.jpg  \n2  http://userserve-ak.last.fm/serve/252/40222717...  \n3  http://userserve-ak.last.fm/serve/252/54697835...  \n4  http://userserve-ak.last.fm/serve/252/14789013...  ",
      "text/html": "<div>\n<style scoped>\n    .dataframe tbody tr th:only-of-type {\n        vertical-align: middle;\n    }\n\n    .dataframe tbody tr th {\n        vertical-align: top;\n    }\n\n    .dataframe thead th {\n        text-align: right;\n    }\n</style>\n<table border=\"1\" class=\"dataframe\">\n  <thead>\n    <tr style=\"text-align: right;\">\n      <th></th>\n      <th>id</th>\n      <th>name</th>\n      <th>url</th>\n      <th>pictureURL</th>\n    </tr>\n  </thead>\n  <tbody>\n    <tr>\n      <th>0</th>\n      <td>1</td>\n      <td>MALICE MIZER</td>\n      <td>http://www.last.fm/music/MALICE+MIZER</td>\n      <td>http://userserve-ak.last.fm/serve/252/10808.jpg</td>\n    </tr>\n    <tr>\n      <th>1</th>\n      <td>2</td>\n      <td>Diary of Dreams</td>\n      <td>http://www.last.fm/music/Diary+of+Dreams</td>\n      <td>http://userserve-ak.last.fm/serve/252/3052066.jpg</td>\n    </tr>\n    <tr>\n      <th>2</th>\n      <td>3</td>\n      <td>Carpathian Forest</td>\n      <td>http://www.last.fm/music/Carpathian+Forest</td>\n      <td>http://userserve-ak.last.fm/serve/252/40222717...</td>\n    </tr>\n    <tr>\n      <th>3</th>\n      <td>4</td>\n      <td>Moi dix Mois</td>\n      <td>http://www.last.fm/music/Moi+dix+Mois</td>\n      <td>http://userserve-ak.last.fm/serve/252/54697835...</td>\n    </tr>\n    <tr>\n      <th>4</th>\n      <td>5</td>\n      <td>Bella Morte</td>\n      <td>http://www.last.fm/music/Bella+Morte</td>\n      <td>http://userserve-ak.last.fm/serve/252/14789013...</td>\n    </tr>\n  </tbody>\n</table>\n</div>"
     },
     "metadata": {},
     "output_type": "execute_result",
     "execution_count": 26
    }
   ],
   "source": [
    "# Download the week 10 - Music Data.zip dataset and create a Jupyter Notebook “RecommenderSystemsMusic.ipynb”. Do the following\n",
    "#     a) Clean the dataset if necessary\n",
    "#     b) Display the top 10 artists correlated to \"Michael Jackson\" based on the user's listen_count\n",
    "#     c) Display the top 10 artists correlated to \"Michael Jackson\" based on the user tags\n",
    "#     d) Reccommend 5 artists to the user with userID = 129 based on his friends' listen_counts \n",
    "#     e) Submit the “RecommenderSystemsMusic.ipynb”\n",
    "# Hint: Combine different data files together as necassary for part b), c) and d)\n",
    "import numpy as np\n",
    "import pandas as pd\n",
    "base=\"Music Data/\"\n",
    "artists_data = pd.read_csv(base+\"artists.csv\",encoding=\"latin\")\n",
    "artists_data.head()"
   ]
  },
  {
   "cell_type": "code",
   "execution_count": 27,
   "outputs": [
    {
     "data": {
      "text/plain": "   userID  artistID  listen_count\n0       2        51         13883\n1       2        52         11690\n2       2        53         11351\n3       2        54         10300\n4       2        55          8983",
      "text/html": "<div>\n<style scoped>\n    .dataframe tbody tr th:only-of-type {\n        vertical-align: middle;\n    }\n\n    .dataframe tbody tr th {\n        vertical-align: top;\n    }\n\n    .dataframe thead th {\n        text-align: right;\n    }\n</style>\n<table border=\"1\" class=\"dataframe\">\n  <thead>\n    <tr style=\"text-align: right;\">\n      <th></th>\n      <th>userID</th>\n      <th>artistID</th>\n      <th>listen_count</th>\n    </tr>\n  </thead>\n  <tbody>\n    <tr>\n      <th>0</th>\n      <td>2</td>\n      <td>51</td>\n      <td>13883</td>\n    </tr>\n    <tr>\n      <th>1</th>\n      <td>2</td>\n      <td>52</td>\n      <td>11690</td>\n    </tr>\n    <tr>\n      <th>2</th>\n      <td>2</td>\n      <td>53</td>\n      <td>11351</td>\n    </tr>\n    <tr>\n      <th>3</th>\n      <td>2</td>\n      <td>54</td>\n      <td>10300</td>\n    </tr>\n    <tr>\n      <th>4</th>\n      <td>2</td>\n      <td>55</td>\n      <td>8983</td>\n    </tr>\n  </tbody>\n</table>\n</div>"
     },
     "metadata": {},
     "output_type": "execute_result",
     "execution_count": 27
    }
   ],
   "source": [
    "listen_data = pd.read_csv(base+\"user_artists.csv\",encoding=\"latin\")\n",
    "listen_data.head()\n"
   ],
   "metadata": {
    "collapsed": false,
    "pycharm": {
     "name": "#%%\n",
     "is_executing": false
    }
   }
  },
  {
   "cell_type": "code",
   "execution_count": 28,
   "outputs": [],
   "source": [
    "t=artists_data.columns.values\n",
    "t[0]=\"artistID\"\n",
    "artists_data.columns=t"
   ],
   "metadata": {
    "collapsed": false,
    "pycharm": {
     "name": "#%%\n",
     "is_executing": false
    }
   }
  },
  {
   "cell_type": "code",
   "execution_count": 29,
   "outputs": [
    {
     "data": {
      "text/plain": "   artistID             name                                       url  \\\n0         1     MALICE MIZER     http://www.last.fm/music/MALICE+MIZER   \n1         1     MALICE MIZER     http://www.last.fm/music/MALICE+MIZER   \n2         1     MALICE MIZER     http://www.last.fm/music/MALICE+MIZER   \n3         2  Diary of Dreams  http://www.last.fm/music/Diary+of+Dreams   \n4         2  Diary of Dreams  http://www.last.fm/music/Diary+of+Dreams   \n\n                                          pictureURL  userID  listen_count  \n0    http://userserve-ak.last.fm/serve/252/10808.jpg      34           212  \n1    http://userserve-ak.last.fm/serve/252/10808.jpg     274           483  \n2    http://userserve-ak.last.fm/serve/252/10808.jpg     785            76  \n3  http://userserve-ak.last.fm/serve/252/3052066.jpg     135          1021  \n4  http://userserve-ak.last.fm/serve/252/3052066.jpg     257           152  ",
      "text/html": "<div>\n<style scoped>\n    .dataframe tbody tr th:only-of-type {\n        vertical-align: middle;\n    }\n\n    .dataframe tbody tr th {\n        vertical-align: top;\n    }\n\n    .dataframe thead th {\n        text-align: right;\n    }\n</style>\n<table border=\"1\" class=\"dataframe\">\n  <thead>\n    <tr style=\"text-align: right;\">\n      <th></th>\n      <th>artistID</th>\n      <th>name</th>\n      <th>url</th>\n      <th>pictureURL</th>\n      <th>userID</th>\n      <th>listen_count</th>\n    </tr>\n  </thead>\n  <tbody>\n    <tr>\n      <th>0</th>\n      <td>1</td>\n      <td>MALICE MIZER</td>\n      <td>http://www.last.fm/music/MALICE+MIZER</td>\n      <td>http://userserve-ak.last.fm/serve/252/10808.jpg</td>\n      <td>34</td>\n      <td>212</td>\n    </tr>\n    <tr>\n      <th>1</th>\n      <td>1</td>\n      <td>MALICE MIZER</td>\n      <td>http://www.last.fm/music/MALICE+MIZER</td>\n      <td>http://userserve-ak.last.fm/serve/252/10808.jpg</td>\n      <td>274</td>\n      <td>483</td>\n    </tr>\n    <tr>\n      <th>2</th>\n      <td>1</td>\n      <td>MALICE MIZER</td>\n      <td>http://www.last.fm/music/MALICE+MIZER</td>\n      <td>http://userserve-ak.last.fm/serve/252/10808.jpg</td>\n      <td>785</td>\n      <td>76</td>\n    </tr>\n    <tr>\n      <th>3</th>\n      <td>2</td>\n      <td>Diary of Dreams</td>\n      <td>http://www.last.fm/music/Diary+of+Dreams</td>\n      <td>http://userserve-ak.last.fm/serve/252/3052066.jpg</td>\n      <td>135</td>\n      <td>1021</td>\n    </tr>\n    <tr>\n      <th>4</th>\n      <td>2</td>\n      <td>Diary of Dreams</td>\n      <td>http://www.last.fm/music/Diary+of+Dreams</td>\n      <td>http://userserve-ak.last.fm/serve/252/3052066.jpg</td>\n      <td>257</td>\n      <td>152</td>\n    </tr>\n  </tbody>\n</table>\n</div>"
     },
     "metadata": {},
     "output_type": "execute_result",
     "execution_count": 29
    }
   ],
   "source": [
    "user_artises_data = pd.merge(artists_data, listen_data, on=\"artistID\")\n",
    "user_artises_data.head()\n"
   ],
   "metadata": {
    "collapsed": false,
    "pycharm": {
     "name": "#%%\n",
     "is_executing": false
    }
   }
  },
  {
   "cell_type": "code",
   "execution_count": 30,
   "outputs": [
    {
     "data": {
      "text/plain": "name    !!!  !DISTAIN  !deladap  #####  #2 Orchestra  #NAME?  $lick  \\\nuserID                                                                \n2       NaN       NaN       NaN    NaN           NaN     NaN    NaN   \n3       NaN       NaN       NaN    NaN           NaN     NaN    NaN   \n4       NaN       NaN       NaN    NaN           NaN     NaN    NaN   \n5       NaN       NaN       NaN    NaN           NaN     NaN    NaN   \n6       NaN       NaN       NaN    NaN           NaN     NaN    NaN   \n\nname    $lick feat. Six-Fo  (1962-1966)  (Pre) Kingdom        ...         \\\nuserID                                                        ...          \n2                      NaN          NaN            NaN        ...          \n3                      NaN          NaN            NaN        ...          \n4                      NaN          NaN            NaN        ...          \n5                      NaN          NaN            NaN        ...          \n6                      NaN          NaN            NaN        ...          \n\nname    Özlem Tek?n  Özlem Tekin  Ö²ËÉÉì·ò  Öökülm   Ø  Útidúr  Úztari  \\\nuserID                                                                   \n2               NaN          NaN       NaN     NaN NaN     NaN     NaN   \n3               NaN          NaN       NaN     NaN NaN     NaN     NaN   \n4               NaN          NaN       NaN     NaN NaN     NaN     NaN   \n5               NaN          NaN       NaN     NaN NaN     NaN     NaN   \n6               NaN          NaN       NaN     NaN NaN     NaN     NaN   \n\nname    Üebermutter  Ünloco  Ünol Büyükgönenç  \nuserID                                         \n2               NaN     NaN               NaN  \n3               NaN     NaN               NaN  \n4               NaN     NaN               NaN  \n5               NaN     NaN               NaN  \n6               NaN     NaN               NaN  \n\n[5 rows x 17136 columns]",
      "text/html": "<div>\n<style scoped>\n    .dataframe tbody tr th:only-of-type {\n        vertical-align: middle;\n    }\n\n    .dataframe tbody tr th {\n        vertical-align: top;\n    }\n\n    .dataframe thead th {\n        text-align: right;\n    }\n</style>\n<table border=\"1\" class=\"dataframe\">\n  <thead>\n    <tr style=\"text-align: right;\">\n      <th>name</th>\n      <th>!!!</th>\n      <th>!DISTAIN</th>\n      <th>!deladap</th>\n      <th>#####</th>\n      <th>#2 Orchestra</th>\n      <th>#NAME?</th>\n      <th>$lick</th>\n      <th>$lick feat. Six-Fo</th>\n      <th>(1962-1966)</th>\n      <th>(Pre) Kingdom</th>\n      <th>...</th>\n      <th>Özlem Tek?n</th>\n      <th>Özlem Tekin</th>\n      <th>Ö²ËÉÉì·ò</th>\n      <th>Öökülm</th>\n      <th>Ø</th>\n      <th>Útidúr</th>\n      <th>Úztari</th>\n      <th>Üebermutter</th>\n      <th>Ünloco</th>\n      <th>Ünol Büyükgönenç</th>\n    </tr>\n    <tr>\n      <th>userID</th>\n      <th></th>\n      <th></th>\n      <th></th>\n      <th></th>\n      <th></th>\n      <th></th>\n      <th></th>\n      <th></th>\n      <th></th>\n      <th></th>\n      <th></th>\n      <th></th>\n      <th></th>\n      <th></th>\n      <th></th>\n      <th></th>\n      <th></th>\n      <th></th>\n      <th></th>\n      <th></th>\n      <th></th>\n    </tr>\n  </thead>\n  <tbody>\n    <tr>\n      <th>2</th>\n      <td>NaN</td>\n      <td>NaN</td>\n      <td>NaN</td>\n      <td>NaN</td>\n      <td>NaN</td>\n      <td>NaN</td>\n      <td>NaN</td>\n      <td>NaN</td>\n      <td>NaN</td>\n      <td>NaN</td>\n      <td>...</td>\n      <td>NaN</td>\n      <td>NaN</td>\n      <td>NaN</td>\n      <td>NaN</td>\n      <td>NaN</td>\n      <td>NaN</td>\n      <td>NaN</td>\n      <td>NaN</td>\n      <td>NaN</td>\n      <td>NaN</td>\n    </tr>\n    <tr>\n      <th>3</th>\n      <td>NaN</td>\n      <td>NaN</td>\n      <td>NaN</td>\n      <td>NaN</td>\n      <td>NaN</td>\n      <td>NaN</td>\n      <td>NaN</td>\n      <td>NaN</td>\n      <td>NaN</td>\n      <td>NaN</td>\n      <td>...</td>\n      <td>NaN</td>\n      <td>NaN</td>\n      <td>NaN</td>\n      <td>NaN</td>\n      <td>NaN</td>\n      <td>NaN</td>\n      <td>NaN</td>\n      <td>NaN</td>\n      <td>NaN</td>\n      <td>NaN</td>\n    </tr>\n    <tr>\n      <th>4</th>\n      <td>NaN</td>\n      <td>NaN</td>\n      <td>NaN</td>\n      <td>NaN</td>\n      <td>NaN</td>\n      <td>NaN</td>\n      <td>NaN</td>\n      <td>NaN</td>\n      <td>NaN</td>\n      <td>NaN</td>\n      <td>...</td>\n      <td>NaN</td>\n      <td>NaN</td>\n      <td>NaN</td>\n      <td>NaN</td>\n      <td>NaN</td>\n      <td>NaN</td>\n      <td>NaN</td>\n      <td>NaN</td>\n      <td>NaN</td>\n      <td>NaN</td>\n    </tr>\n    <tr>\n      <th>5</th>\n      <td>NaN</td>\n      <td>NaN</td>\n      <td>NaN</td>\n      <td>NaN</td>\n      <td>NaN</td>\n      <td>NaN</td>\n      <td>NaN</td>\n      <td>NaN</td>\n      <td>NaN</td>\n      <td>NaN</td>\n      <td>...</td>\n      <td>NaN</td>\n      <td>NaN</td>\n      <td>NaN</td>\n      <td>NaN</td>\n      <td>NaN</td>\n      <td>NaN</td>\n      <td>NaN</td>\n      <td>NaN</td>\n      <td>NaN</td>\n      <td>NaN</td>\n    </tr>\n    <tr>\n      <th>6</th>\n      <td>NaN</td>\n      <td>NaN</td>\n      <td>NaN</td>\n      <td>NaN</td>\n      <td>NaN</td>\n      <td>NaN</td>\n      <td>NaN</td>\n      <td>NaN</td>\n      <td>NaN</td>\n      <td>NaN</td>\n      <td>...</td>\n      <td>NaN</td>\n      <td>NaN</td>\n      <td>NaN</td>\n      <td>NaN</td>\n      <td>NaN</td>\n      <td>NaN</td>\n      <td>NaN</td>\n      <td>NaN</td>\n      <td>NaN</td>\n      <td>NaN</td>\n    </tr>\n  </tbody>\n</table>\n<p>5 rows × 17136 columns</p>\n</div>"
     },
     "metadata": {},
     "output_type": "execute_result",
     "execution_count": 30
    }
   ],
   "source": [
    "user_artises_matrix = user_artises_data.pivot_table(index='userID', columns='name',values='listen_count')\n",
    "user_artises_matrix.head()"
   ],
   "metadata": {
    "collapsed": false,
    "pycharm": {
     "name": "#%%\n",
     "is_executing": false
    }
   }
  },
  {
   "cell_type": "code",
   "execution_count": 31,
   "outputs": [
    {
     "data": {
      "text/plain": "userID\n2          NaN\n3          NaN\n4        732.0\n5          NaN\n6          NaN\n7          NaN\n8          NaN\n9          NaN\n10         NaN\n11      1007.0\n12         NaN\n13         NaN\n14         NaN\n15         NaN\n16         NaN\n17         NaN\n18         NaN\n20         NaN\n21         NaN\n22         NaN\n23         NaN\n24       538.0\n25      1694.0\n26         NaN\n27         NaN\n28         NaN\n29         NaN\n30         NaN\n31         NaN\n32         NaN\n         ...  \n2066       NaN\n2067       NaN\n2068       NaN\n2069       NaN\n2070       NaN\n2071     182.0\n2072       NaN\n2075     176.0\n2076       NaN\n2077       NaN\n2078       NaN\n2079       NaN\n2080       NaN\n2081       NaN\n2083      36.0\n2084       NaN\n2085       NaN\n2086       NaN\n2087       NaN\n2088      21.0\n2090       NaN\n2091       NaN\n2092       NaN\n2093       NaN\n2094       NaN\n2095       NaN\n2096       NaN\n2097       NaN\n2099       NaN\n2100       NaN\nName: Michael Jackson, Length: 1892, dtype: float64"
     },
     "metadata": {},
     "output_type": "execute_result",
     "execution_count": 31
    }
   ],
   "source": [
    "user_artises_matrix['Michael Jackson']\n"
   ],
   "metadata": {
    "collapsed": false,
    "pycharm": {
     "name": "#%%\n",
     "is_executing": false
    }
   }
  },
  {
   "cell_type": "code",
   "execution_count": 32,
   "outputs": [
    {
     "data": {
      "text/plain": "name    !!!  !DISTAIN  !deladap  #####  #2 Orchestra  #NAME?  $lick  \\\nuserID                                                                \n4       NaN       NaN       NaN    NaN           NaN     NaN    NaN   \n11      NaN       NaN       NaN    NaN           NaN     NaN    NaN   \n24      NaN       NaN       NaN    NaN           NaN     NaN    NaN   \n25      NaN       NaN       NaN    NaN           NaN     NaN    NaN   \n37      NaN       NaN       NaN    NaN           NaN     NaN    NaN   \n\nname    $lick feat. Six-Fo  (1962-1966)  (Pre) Kingdom        ...         \\\nuserID                                                        ...          \n4                      NaN          NaN            NaN        ...          \n11                     NaN          NaN            NaN        ...          \n24                     NaN          NaN            NaN        ...          \n25                     NaN          NaN            NaN        ...          \n37                     NaN          NaN            NaN        ...          \n\nname    Özlem Tek?n  Özlem Tekin  Ö²ËÉÉì·ò  Öökülm   Ø  Útidúr  Úztari  \\\nuserID                                                                   \n4               NaN          NaN       NaN     NaN NaN     NaN     NaN   \n11              NaN          NaN       NaN     NaN NaN     NaN     NaN   \n24              NaN          NaN       NaN     NaN NaN     NaN     NaN   \n25              NaN          NaN       NaN     NaN NaN     NaN     NaN   \n37              NaN          NaN       NaN     NaN NaN     NaN     NaN   \n\nname    Üebermutter  Ünloco  Ünol Büyükgönenç  \nuserID                                         \n4               NaN     NaN               NaN  \n11              NaN     NaN               NaN  \n24              NaN     NaN               NaN  \n25              NaN     NaN               NaN  \n37              NaN     NaN               NaN  \n\n[5 rows x 17136 columns]",
      "text/html": "<div>\n<style scoped>\n    .dataframe tbody tr th:only-of-type {\n        vertical-align: middle;\n    }\n\n    .dataframe tbody tr th {\n        vertical-align: top;\n    }\n\n    .dataframe thead th {\n        text-align: right;\n    }\n</style>\n<table border=\"1\" class=\"dataframe\">\n  <thead>\n    <tr style=\"text-align: right;\">\n      <th>name</th>\n      <th>!!!</th>\n      <th>!DISTAIN</th>\n      <th>!deladap</th>\n      <th>#####</th>\n      <th>#2 Orchestra</th>\n      <th>#NAME?</th>\n      <th>$lick</th>\n      <th>$lick feat. Six-Fo</th>\n      <th>(1962-1966)</th>\n      <th>(Pre) Kingdom</th>\n      <th>...</th>\n      <th>Özlem Tek?n</th>\n      <th>Özlem Tekin</th>\n      <th>Ö²ËÉÉì·ò</th>\n      <th>Öökülm</th>\n      <th>Ø</th>\n      <th>Útidúr</th>\n      <th>Úztari</th>\n      <th>Üebermutter</th>\n      <th>Ünloco</th>\n      <th>Ünol Büyükgönenç</th>\n    </tr>\n    <tr>\n      <th>userID</th>\n      <th></th>\n      <th></th>\n      <th></th>\n      <th></th>\n      <th></th>\n      <th></th>\n      <th></th>\n      <th></th>\n      <th></th>\n      <th></th>\n      <th></th>\n      <th></th>\n      <th></th>\n      <th></th>\n      <th></th>\n      <th></th>\n      <th></th>\n      <th></th>\n      <th></th>\n      <th></th>\n      <th></th>\n    </tr>\n  </thead>\n  <tbody>\n    <tr>\n      <th>4</th>\n      <td>NaN</td>\n      <td>NaN</td>\n      <td>NaN</td>\n      <td>NaN</td>\n      <td>NaN</td>\n      <td>NaN</td>\n      <td>NaN</td>\n      <td>NaN</td>\n      <td>NaN</td>\n      <td>NaN</td>\n      <td>...</td>\n      <td>NaN</td>\n      <td>NaN</td>\n      <td>NaN</td>\n      <td>NaN</td>\n      <td>NaN</td>\n      <td>NaN</td>\n      <td>NaN</td>\n      <td>NaN</td>\n      <td>NaN</td>\n      <td>NaN</td>\n    </tr>\n    <tr>\n      <th>11</th>\n      <td>NaN</td>\n      <td>NaN</td>\n      <td>NaN</td>\n      <td>NaN</td>\n      <td>NaN</td>\n      <td>NaN</td>\n      <td>NaN</td>\n      <td>NaN</td>\n      <td>NaN</td>\n      <td>NaN</td>\n      <td>...</td>\n      <td>NaN</td>\n      <td>NaN</td>\n      <td>NaN</td>\n      <td>NaN</td>\n      <td>NaN</td>\n      <td>NaN</td>\n      <td>NaN</td>\n      <td>NaN</td>\n      <td>NaN</td>\n      <td>NaN</td>\n    </tr>\n    <tr>\n      <th>24</th>\n      <td>NaN</td>\n      <td>NaN</td>\n      <td>NaN</td>\n      <td>NaN</td>\n      <td>NaN</td>\n      <td>NaN</td>\n      <td>NaN</td>\n      <td>NaN</td>\n      <td>NaN</td>\n      <td>NaN</td>\n      <td>...</td>\n      <td>NaN</td>\n      <td>NaN</td>\n      <td>NaN</td>\n      <td>NaN</td>\n      <td>NaN</td>\n      <td>NaN</td>\n      <td>NaN</td>\n      <td>NaN</td>\n      <td>NaN</td>\n      <td>NaN</td>\n    </tr>\n    <tr>\n      <th>25</th>\n      <td>NaN</td>\n      <td>NaN</td>\n      <td>NaN</td>\n      <td>NaN</td>\n      <td>NaN</td>\n      <td>NaN</td>\n      <td>NaN</td>\n      <td>NaN</td>\n      <td>NaN</td>\n      <td>NaN</td>\n      <td>...</td>\n      <td>NaN</td>\n      <td>NaN</td>\n      <td>NaN</td>\n      <td>NaN</td>\n      <td>NaN</td>\n      <td>NaN</td>\n      <td>NaN</td>\n      <td>NaN</td>\n      <td>NaN</td>\n      <td>NaN</td>\n    </tr>\n    <tr>\n      <th>37</th>\n      <td>NaN</td>\n      <td>NaN</td>\n      <td>NaN</td>\n      <td>NaN</td>\n      <td>NaN</td>\n      <td>NaN</td>\n      <td>NaN</td>\n      <td>NaN</td>\n      <td>NaN</td>\n      <td>NaN</td>\n      <td>...</td>\n      <td>NaN</td>\n      <td>NaN</td>\n      <td>NaN</td>\n      <td>NaN</td>\n      <td>NaN</td>\n      <td>NaN</td>\n      <td>NaN</td>\n      <td>NaN</td>\n      <td>NaN</td>\n      <td>NaN</td>\n    </tr>\n  </tbody>\n</table>\n<p>5 rows × 17136 columns</p>\n</div>"
     },
     "metadata": {},
     "output_type": "execute_result",
     "execution_count": 32
    }
   ],
   "source": [
    "forrest_jack_times = user_artises_matrix[user_artises_matrix['Michael Jackson'].notnull()]\n",
    "forrest_jack_times.head()"
   ],
   "metadata": {
    "collapsed": false,
    "pycharm": {
     "name": "#%%\n",
     "is_executing": false
    }
   }
  },
  {
   "cell_type": "code",
   "execution_count": 51,
   "outputs": [
    {
     "data": {
      "text/plain": "             Correlation\nname                    \n*NSYNC               1.0\n2 Unlimited          1.0\n2NE1                 1.0\n2PM                  1.0\n2Pac                 1.0",
      "text/html": "<div>\n<style scoped>\n    .dataframe tbody tr th:only-of-type {\n        vertical-align: middle;\n    }\n\n    .dataframe tbody tr th {\n        vertical-align: top;\n    }\n\n    .dataframe thead th {\n        text-align: right;\n    }\n</style>\n<table border=\"1\" class=\"dataframe\">\n  <thead>\n    <tr style=\"text-align: right;\">\n      <th></th>\n      <th>Correlation</th>\n    </tr>\n    <tr>\n      <th>name</th>\n      <th></th>\n    </tr>\n  </thead>\n  <tbody>\n    <tr>\n      <th>*NSYNC</th>\n      <td>1.0</td>\n    </tr>\n    <tr>\n      <th>2 Unlimited</th>\n      <td>1.0</td>\n    </tr>\n    <tr>\n      <th>2NE1</th>\n      <td>1.0</td>\n    </tr>\n    <tr>\n      <th>2PM</th>\n      <td>1.0</td>\n    </tr>\n    <tr>\n      <th>2Pac</th>\n      <td>1.0</td>\n    </tr>\n  </tbody>\n</table>\n</div>"
     },
     "metadata": {},
     "output_type": "execute_result",
     "execution_count": 51
    }
   ],
   "source": [
    "musics_listen_forest_jack = user_artises_matrix.corrwith(forrest_jack_times)\n",
    "corr_forrest_jack = pd.DataFrame(musics_listen_forest_jack, columns=['Correlation'])\n",
    "corr_forrest_jack.dropna(inplace=True)\n",
    "corr_forrest_jack.head()"
   ],
   "metadata": {
    "collapsed": false,
    "pycharm": {
     "name": "#%%\n",
     "is_executing": false
    }
   }
  },
  {
   "cell_type": "code",
   "execution_count": 52,
   "outputs": [
    {
     "data": {
      "text/plain": "                Correlation\nname                       \nPortishead              1.0\nRoxy Music              1.0\nRoxette                 1.0\nDeftones                1.0\nRainbow                 1.0\nDr. Dre                 1.0\nRascal Flatts           1.0\nDionne Warwick          1.0\nDio                     1.0\nDiana Ross              1.0",
      "text/html": "<div>\n<style scoped>\n    .dataframe tbody tr th:only-of-type {\n        vertical-align: middle;\n    }\n\n    .dataframe tbody tr th {\n        vertical-align: top;\n    }\n\n    .dataframe thead th {\n        text-align: right;\n    }\n</style>\n<table border=\"1\" class=\"dataframe\">\n  <thead>\n    <tr style=\"text-align: right;\">\n      <th></th>\n      <th>Correlation</th>\n    </tr>\n    <tr>\n      <th>name</th>\n      <th></th>\n    </tr>\n  </thead>\n  <tbody>\n    <tr>\n      <th>Portishead</th>\n      <td>1.0</td>\n    </tr>\n    <tr>\n      <th>Roxy Music</th>\n      <td>1.0</td>\n    </tr>\n    <tr>\n      <th>Roxette</th>\n      <td>1.0</td>\n    </tr>\n    <tr>\n      <th>Deftones</th>\n      <td>1.0</td>\n    </tr>\n    <tr>\n      <th>Rainbow</th>\n      <td>1.0</td>\n    </tr>\n    <tr>\n      <th>Dr. Dre</th>\n      <td>1.0</td>\n    </tr>\n    <tr>\n      <th>Rascal Flatts</th>\n      <td>1.0</td>\n    </tr>\n    <tr>\n      <th>Dionne Warwick</th>\n      <td>1.0</td>\n    </tr>\n    <tr>\n      <th>Dio</th>\n      <td>1.0</td>\n    </tr>\n    <tr>\n      <th>Diana Ross</th>\n      <td>1.0</td>\n    </tr>\n  </tbody>\n</table>\n</div>"
     },
     "metadata": {},
     "output_type": "execute_result",
     "execution_count": 52
    }
   ],
   "source": [
    "corr_forrest_jack.sort_values('Correlation', ascending=False).head(10)\n",
    "\n"
   ],
   "metadata": {
    "collapsed": false,
    "pycharm": {
     "name": "#%%\n",
     "is_executing": false
    }
   }
  },
  {
   "cell_type": "code",
   "execution_count": 47,
   "outputs": [
    {
     "data": {
      "text/plain": "          listen_count\nartistID              \n1                  771\n2                 8012\n3                  775\n4                  563\n5                  913",
      "text/html": "<div>\n<style scoped>\n    .dataframe tbody tr th:only-of-type {\n        vertical-align: middle;\n    }\n\n    .dataframe tbody tr th {\n        vertical-align: top;\n    }\n\n    .dataframe thead th {\n        text-align: right;\n    }\n</style>\n<table border=\"1\" class=\"dataframe\">\n  <thead>\n    <tr style=\"text-align: right;\">\n      <th></th>\n      <th>listen_count</th>\n    </tr>\n    <tr>\n      <th>artistID</th>\n      <th></th>\n    </tr>\n  </thead>\n  <tbody>\n    <tr>\n      <th>1</th>\n      <td>771</td>\n    </tr>\n    <tr>\n      <th>2</th>\n      <td>8012</td>\n    </tr>\n    <tr>\n      <th>3</th>\n      <td>775</td>\n    </tr>\n    <tr>\n      <th>4</th>\n      <td>563</td>\n    </tr>\n    <tr>\n      <th>5</th>\n      <td>913</td>\n    </tr>\n  </tbody>\n</table>\n</div>"
     },
     "metadata": {},
     "output_type": "execute_result",
     "execution_count": 47
    }
   ],
   "source": [
    "listen_mean_count = pd.DataFrame(listen_data.groupby('artistID')['listen_count'].sum())\n",
    "listen_mean_count.head()"
   ],
   "metadata": {
    "collapsed": false,
    "pycharm": {
     "name": "#%%\n",
     "is_executing": false
    }
   }
  },
  {
   "cell_type": "code",
   "execution_count": 53,
   "outputs": [
    {
     "data": {
      "text/plain": "             Correlation  listen_count\nname                                  \n*NSYNC               1.0           NaN\n2 Unlimited          1.0           NaN\n2NE1                 1.0           NaN\n2PM                  1.0           NaN\n2Pac                 1.0           NaN",
      "text/html": "<div>\n<style scoped>\n    .dataframe tbody tr th:only-of-type {\n        vertical-align: middle;\n    }\n\n    .dataframe tbody tr th {\n        vertical-align: top;\n    }\n\n    .dataframe thead th {\n        text-align: right;\n    }\n</style>\n<table border=\"1\" class=\"dataframe\">\n  <thead>\n    <tr style=\"text-align: right;\">\n      <th></th>\n      <th>Correlation</th>\n      <th>listen_count</th>\n    </tr>\n    <tr>\n      <th>name</th>\n      <th></th>\n      <th></th>\n    </tr>\n  </thead>\n  <tbody>\n    <tr>\n      <th>*NSYNC</th>\n      <td>1.0</td>\n      <td>NaN</td>\n    </tr>\n    <tr>\n      <th>2 Unlimited</th>\n      <td>1.0</td>\n      <td>NaN</td>\n    </tr>\n    <tr>\n      <th>2NE1</th>\n      <td>1.0</td>\n      <td>NaN</td>\n    </tr>\n    <tr>\n      <th>2PM</th>\n      <td>1.0</td>\n      <td>NaN</td>\n    </tr>\n    <tr>\n      <th>2Pac</th>\n      <td>1.0</td>\n      <td>NaN</td>\n    </tr>\n  </tbody>\n</table>\n</div>"
     },
     "metadata": {},
     "output_type": "execute_result",
     "execution_count": 53
    }
   ],
   "source": [
    "corr_forrest_jack = corr_forrest_jack.join(listen_mean_count['listen_count'])\n",
    "corr_forrest_jack.head()\n",
    "\n",
    "\n"
   ],
   "metadata": {
    "collapsed": false,
    "pycharm": {
     "name": "#%%\n",
     "is_executing": false
    }
   }
  }
 ],
 "metadata": {
  "kernelspec": {
   "display_name": "Python 3",
   "language": "python",
   "name": "python3"
  },
  "language_info": {
   "codemirror_mode": {
    "name": "ipython",
    "version": 2
   },
   "file_extension": ".py",
   "mimetype": "text/x-python",
   "name": "python",
   "nbconvert_exporter": "python",
   "pygments_lexer": "ipython2",
   "version": "2.7.6"
  },
  "pycharm": {
   "stem_cell": {
    "cell_type": "raw",
    "source": [],
    "metadata": {
     "collapsed": false
    }
   }
  }
 },
 "nbformat": 4,
 "nbformat_minor": 0
}
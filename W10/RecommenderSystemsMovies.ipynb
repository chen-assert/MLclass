{
 "cells": [
  {
   "cell_type": "code",
   "execution_count": 99,
   "metadata": {
    "pycharm": {
     "is_executing": false
    }
   },
   "outputs": [
    {
     "data": {
      "text/plain": "   userId  movieId  rating  timestamp\n0       1        1     4.0  964982703\n1       1        3     4.0  964981247\n2       1        6     4.0  964982224\n3       1       47     5.0  964983815\n4       1       50     5.0  964982931",
      "text/html": "<div>\n<style scoped>\n    .dataframe tbody tr th:only-of-type {\n        vertical-align: middle;\n    }\n\n    .dataframe tbody tr th {\n        vertical-align: top;\n    }\n\n    .dataframe thead th {\n        text-align: right;\n    }\n</style>\n<table border=\"1\" class=\"dataframe\">\n  <thead>\n    <tr style=\"text-align: right;\">\n      <th></th>\n      <th>userId</th>\n      <th>movieId</th>\n      <th>rating</th>\n      <th>timestamp</th>\n    </tr>\n  </thead>\n  <tbody>\n    <tr>\n      <th>0</th>\n      <td>1</td>\n      <td>1</td>\n      <td>4.0</td>\n      <td>964982703</td>\n    </tr>\n    <tr>\n      <th>1</th>\n      <td>1</td>\n      <td>3</td>\n      <td>4.0</td>\n      <td>964981247</td>\n    </tr>\n    <tr>\n      <th>2</th>\n      <td>1</td>\n      <td>6</td>\n      <td>4.0</td>\n      <td>964982224</td>\n    </tr>\n    <tr>\n      <th>3</th>\n      <td>1</td>\n      <td>47</td>\n      <td>5.0</td>\n      <td>964983815</td>\n    </tr>\n    <tr>\n      <th>4</th>\n      <td>1</td>\n      <td>50</td>\n      <td>5.0</td>\n      <td>964982931</td>\n    </tr>\n  </tbody>\n</table>\n</div>"
     },
     "metadata": {},
     "output_type": "execute_result",
     "execution_count": 99
    }
   ],
   "source": [
    "# import the \"ratings.csv\" file and see what it contains\n",
    "import numpy as np\n",
    "import pandas as pd\n",
    "base=\"Movies Data/\"\n",
    "ratings_data = pd.read_csv(base+\"ratings.csv\")\n",
    "ratings_data.head()"
   ]
  },
  {
   "cell_type": "code",
   "execution_count": 100,
   "metadata": {
    "pycharm": {
     "is_executing": false
    }
   },
   "outputs": [],
   "source": [
    "# Each row in the dataset corresponds to one rating. \n",
    "# The userId column contains the ID of the user who left the rating. \n",
    "# The movieId column contains the Id of the movie, the rating column contains the rating left by the user. \n",
    "# Ratings can have values between 1 and 5. \n",
    "# And finally, the timestamp refers to the time at which the user left the rating."
   ]
  },
  {
   "cell_type": "code",
   "execution_count": 101,
   "metadata": {
    "pycharm": {
     "is_executing": false
    }
   },
   "outputs": [],
   "source": [
    "# This dataset contains the IDs of the movies but not their titles. \n",
    "# We'll need movie names for the movies we're recommending. \n",
    "# The movie names are stored in the \"movies.csv\" file."
   ]
  },
  {
   "cell_type": "code",
   "execution_count": 102,
   "metadata": {
    "pycharm": {
     "is_executing": false
    }
   },
   "outputs": [
    {
     "data": {
      "text/plain": "   movieId                               title  \\\n0        1                    Toy Story (1995)   \n1        2                      Jumanji (1995)   \n2        3             Grumpier Old Men (1995)   \n3        4            Waiting to Exhale (1995)   \n4        5  Father of the Bride Part II (1995)   \n\n                                        genres  \n0  Adventure|Animation|Children|Comedy|Fantasy  \n1                   Adventure|Children|Fantasy  \n2                               Comedy|Romance  \n3                         Comedy|Drama|Romance  \n4                                       Comedy  ",
      "text/html": "<div>\n<style scoped>\n    .dataframe tbody tr th:only-of-type {\n        vertical-align: middle;\n    }\n\n    .dataframe tbody tr th {\n        vertical-align: top;\n    }\n\n    .dataframe thead th {\n        text-align: right;\n    }\n</style>\n<table border=\"1\" class=\"dataframe\">\n  <thead>\n    <tr style=\"text-align: right;\">\n      <th></th>\n      <th>movieId</th>\n      <th>title</th>\n      <th>genres</th>\n    </tr>\n  </thead>\n  <tbody>\n    <tr>\n      <th>0</th>\n      <td>1</td>\n      <td>Toy Story (1995)</td>\n      <td>Adventure|Animation|Children|Comedy|Fantasy</td>\n    </tr>\n    <tr>\n      <th>1</th>\n      <td>2</td>\n      <td>Jumanji (1995)</td>\n      <td>Adventure|Children|Fantasy</td>\n    </tr>\n    <tr>\n      <th>2</th>\n      <td>3</td>\n      <td>Grumpier Old Men (1995)</td>\n      <td>Comedy|Romance</td>\n    </tr>\n    <tr>\n      <th>3</th>\n      <td>4</td>\n      <td>Waiting to Exhale (1995)</td>\n      <td>Comedy|Drama|Romance</td>\n    </tr>\n    <tr>\n      <th>4</th>\n      <td>5</td>\n      <td>Father of the Bride Part II (1995)</td>\n      <td>Comedy</td>\n    </tr>\n  </tbody>\n</table>\n</div>"
     },
     "metadata": {},
     "output_type": "execute_result",
     "execution_count": 102
    }
   ],
   "source": [
    "movie_names = pd.read_csv(base+\"movies.csv\")\n",
    "movie_names.head()"
   ]
  },
  {
   "cell_type": "code",
   "execution_count": 103,
   "metadata": {
    "pycharm": {
     "is_executing": false
    }
   },
   "outputs": [],
   "source": [
    "# We need a dataset that contains the userId, movie title, and its ratings. \n",
    "# We have this information in two different dataframe objects: \"ratings_data\" and \"movie_names\". \n",
    "# To get our desired information in a single dataframe, we can merge the two dataframes objects \n",
    "# on the movieId column since it is common between the two dataframes."
   ]
  },
  {
   "cell_type": "code",
   "execution_count": 104,
   "metadata": {
    "pycharm": {
     "is_executing": false
    }
   },
   "outputs": [
    {
     "data": {
      "text/plain": "   userId  movieId  rating   timestamp             title  \\\n0       1        1     4.0   964982703  Toy Story (1995)   \n1       5        1     4.0   847434962  Toy Story (1995)   \n2       7        1     4.5  1106635946  Toy Story (1995)   \n3      15        1     2.5  1510577970  Toy Story (1995)   \n4      17        1     4.5  1305696483  Toy Story (1995)   \n\n                                        genres  \n0  Adventure|Animation|Children|Comedy|Fantasy  \n1  Adventure|Animation|Children|Comedy|Fantasy  \n2  Adventure|Animation|Children|Comedy|Fantasy  \n3  Adventure|Animation|Children|Comedy|Fantasy  \n4  Adventure|Animation|Children|Comedy|Fantasy  ",
      "text/html": "<div>\n<style scoped>\n    .dataframe tbody tr th:only-of-type {\n        vertical-align: middle;\n    }\n\n    .dataframe tbody tr th {\n        vertical-align: top;\n    }\n\n    .dataframe thead th {\n        text-align: right;\n    }\n</style>\n<table border=\"1\" class=\"dataframe\">\n  <thead>\n    <tr style=\"text-align: right;\">\n      <th></th>\n      <th>userId</th>\n      <th>movieId</th>\n      <th>rating</th>\n      <th>timestamp</th>\n      <th>title</th>\n      <th>genres</th>\n    </tr>\n  </thead>\n  <tbody>\n    <tr>\n      <th>0</th>\n      <td>1</td>\n      <td>1</td>\n      <td>4.0</td>\n      <td>964982703</td>\n      <td>Toy Story (1995)</td>\n      <td>Adventure|Animation|Children|Comedy|Fantasy</td>\n    </tr>\n    <tr>\n      <th>1</th>\n      <td>5</td>\n      <td>1</td>\n      <td>4.0</td>\n      <td>847434962</td>\n      <td>Toy Story (1995)</td>\n      <td>Adventure|Animation|Children|Comedy|Fantasy</td>\n    </tr>\n    <tr>\n      <th>2</th>\n      <td>7</td>\n      <td>1</td>\n      <td>4.5</td>\n      <td>1106635946</td>\n      <td>Toy Story (1995)</td>\n      <td>Adventure|Animation|Children|Comedy|Fantasy</td>\n    </tr>\n    <tr>\n      <th>3</th>\n      <td>15</td>\n      <td>1</td>\n      <td>2.5</td>\n      <td>1510577970</td>\n      <td>Toy Story (1995)</td>\n      <td>Adventure|Animation|Children|Comedy|Fantasy</td>\n    </tr>\n    <tr>\n      <th>4</th>\n      <td>17</td>\n      <td>1</td>\n      <td>4.5</td>\n      <td>1305696483</td>\n      <td>Toy Story (1995)</td>\n      <td>Adventure|Animation|Children|Comedy|Fantasy</td>\n    </tr>\n  </tbody>\n</table>\n</div>"
     },
     "metadata": {},
     "output_type": "execute_result",
     "execution_count": 104
    }
   ],
   "source": [
    "# Do this using merge() function from the Pandas library\n",
    "movie_data = pd.merge(ratings_data, movie_names, on='movieId')\n",
    "movie_data.head()"
   ]
  },
  {
   "cell_type": "code",
   "execution_count": 105,
   "metadata": {
    "pycharm": {
     "is_executing": false
    }
   },
   "outputs": [],
   "source": [
    "# Now let's take a look at the average rating of each movie. \n",
    "# Group the dataset by the title of the movie and then calculate the mean of the rating for each movie."
   ]
  },
  {
   "cell_type": "code",
   "execution_count": 106,
   "metadata": {
    "pycharm": {
     "is_executing": false
    }
   },
   "outputs": [
    {
     "data": {
      "text/plain": "title\n'71 (2014)                                 4.0\n'Hellboy': The Seeds of Creation (2004)    4.0\n'Round Midnight (1986)                     3.5\n'Salem's Lot (2004)                        5.0\n'Til There Was You (1997)                  4.0\nName: rating, dtype: float64"
     },
     "metadata": {},
     "output_type": "execute_result",
     "execution_count": 106
    }
   ],
   "source": [
    "movie_data.groupby('title')['rating'].mean().head()\n"
   ]
  },
  {
   "cell_type": "code",
   "execution_count": 107,
   "outputs": [
    {
     "data": {
      "text/plain": "title\nRust and Bone (De rouille et d'os) (2012)     0.5\nThe Emoji Movie (2017)                        0.5\nThe Butterfly Effect 3: Revelations (2009)    0.5\nFollow Me, Boys! (1966)                       0.5\nThe Beast of Hollow Mountain (1956)           0.5\nName: rating, dtype: float64"
     },
     "metadata": {},
     "output_type": "execute_result",
     "execution_count": 107
    }
   ],
   "source": [
    "movie_data.groupby('title')['rating'].mean().sort_values(ascending=True).head()"
   ],
   "metadata": {
    "collapsed": false,
    "pycharm": {
     "name": "#%%\n",
     "is_executing": false
    }
   }
  },
  {
   "cell_type": "code",
   "execution_count": 108,
   "metadata": {
    "pycharm": {
     "is_executing": false
    }
   },
   "outputs": [
    {
     "data": {
      "text/plain": "title\nKarlson Returns (1970)                           5.0\nWinter in Prostokvashino (1984)                  5.0\nMy Love (2006)                                   5.0\nSorority House Massacre II (1990)                5.0\nWinnie the Pooh and the Day of Concern (1972)    5.0\nName: rating, dtype: float64"
     },
     "metadata": {},
     "output_type": "execute_result",
     "execution_count": 108
    }
   ],
   "source": [
    "# Sort the ratings in the descending order of their average ratings\n",
    "movie_data.groupby('title')['rating'].mean().sort_values(ascending=False).head()"
   ]
  },
  {
   "cell_type": "code",
   "execution_count": 109,
   "metadata": {
    "pycharm": {
     "is_executing": false
    }
   },
   "outputs": [],
   "source": [
    "# A movie can make it to the top of the above list even if only a single user has given it five stars. \n",
    "# Therefore, the above stats can be misleading. \n",
    "# Normally, a movie which is really a good one gets a higher rating by a large number of users."
   ]
  },
  {
   "cell_type": "code",
   "execution_count": 110,
   "metadata": {
    "pycharm": {
     "is_executing": false
    }
   },
   "outputs": [
    {
     "data": {
      "text/plain": "title\nForrest Gump (1994)                 329\nShawshank Redemption, The (1994)    317\nPulp Fiction (1994)                 307\nSilence of the Lambs, The (1991)    279\nMatrix, The (1999)                  278\nName: rating, dtype: int64"
     },
     "metadata": {},
     "output_type": "execute_result",
     "execution_count": 110
    }
   ],
   "source": [
    "movie_data.groupby('title')['rating'].count().sort_values(ascending=False).head()"
   ]
  },
  {
   "cell_type": "code",
   "execution_count": 111,
   "metadata": {
    "pycharm": {
     "is_executing": false
    }
   },
   "outputs": [],
   "source": [
    "# Now we know that both the average rating per movie and the number of ratings per movie are important attributes. \n",
    "# Let's create a new dataframe that contains both of these attributes."
   ]
  },
  {
   "cell_type": "code",
   "execution_count": 112,
   "metadata": {
    "pycharm": {
     "is_executing": false
    }
   },
   "outputs": [],
   "source": [
    "# create a new dataframe and first add the average rating of each movie to this dataframe\n",
    "ratings_mean_count = pd.DataFrame(movie_data.groupby('title')['rating'].mean())\n"
   ]
  },
  {
   "cell_type": "code",
   "execution_count": 113,
   "metadata": {
    "pycharm": {
     "is_executing": false
    }
   },
   "outputs": [],
   "source": [
    "# add the number of ratings for a movie to the dataframe\n",
    "ratings_mean_count['rating_counts'] = pd.DataFrame(movie_data.groupby('title')['rating'].count())"
   ]
  },
  {
   "cell_type": "code",
   "execution_count": 114,
   "metadata": {
    "pycharm": {
     "is_executing": false
    }
   },
   "outputs": [
    {
     "data": {
      "text/plain": "                                         rating  rating_counts\ntitle                                                         \n'71 (2014)                                  4.0              1\n'Hellboy': The Seeds of Creation (2004)     4.0              1\n'Round Midnight (1986)                      3.5              2\n'Salem's Lot (2004)                         5.0              1\n'Til There Was You (1997)                   4.0              2",
      "text/html": "<div>\n<style scoped>\n    .dataframe tbody tr th:only-of-type {\n        vertical-align: middle;\n    }\n\n    .dataframe tbody tr th {\n        vertical-align: top;\n    }\n\n    .dataframe thead th {\n        text-align: right;\n    }\n</style>\n<table border=\"1\" class=\"dataframe\">\n  <thead>\n    <tr style=\"text-align: right;\">\n      <th></th>\n      <th>rating</th>\n      <th>rating_counts</th>\n    </tr>\n    <tr>\n      <th>title</th>\n      <th></th>\n      <th></th>\n    </tr>\n  </thead>\n  <tbody>\n    <tr>\n      <th>'71 (2014)</th>\n      <td>4.0</td>\n      <td>1</td>\n    </tr>\n    <tr>\n      <th>'Hellboy': The Seeds of Creation (2004)</th>\n      <td>4.0</td>\n      <td>1</td>\n    </tr>\n    <tr>\n      <th>'Round Midnight (1986)</th>\n      <td>3.5</td>\n      <td>2</td>\n    </tr>\n    <tr>\n      <th>'Salem's Lot (2004)</th>\n      <td>5.0</td>\n      <td>1</td>\n    </tr>\n    <tr>\n      <th>'Til There Was You (1997)</th>\n      <td>4.0</td>\n      <td>2</td>\n    </tr>\n  </tbody>\n</table>\n</div>"
     },
     "metadata": {},
     "output_type": "execute_result",
     "execution_count": 114
    }
   ],
   "source": [
    "ratings_mean_count.head()"
   ]
  },
  {
   "cell_type": "code",
   "execution_count": 115,
   "metadata": {
    "pycharm": {
     "is_executing": false
    }
   },
   "outputs": [],
   "source": [
    "# We will use the correlation between the ratings of a movie as the similarity metric. \n",
    "# To find the correlation between the ratings of the movie, we need to create a matrix \n",
    "# where each column is a movie name and each row contains the rating assigned by a specific user to that movie."
   ]
  },
  {
   "cell_type": "code",
   "execution_count": 116,
   "outputs": [
    {
     "data": {
      "text/plain": "        userId  movieId  rating   timestamp                             title  \\\n0            1        1     4.0   964982703                  Toy Story (1995)   \n1            5        1     4.0   847434962                  Toy Story (1995)   \n2            7        1     4.5  1106635946                  Toy Story (1995)   \n3           15        1     2.5  1510577970                  Toy Story (1995)   \n4           17        1     4.5  1305696483                  Toy Story (1995)   \n...        ...      ...     ...         ...                               ...   \n100831     610   160341     2.5  1479545749                  Bloodmoon (1997)   \n100832     610   160527     4.5  1479544998  Sympathy for the Underdog (1971)   \n100833     610   160836     3.0  1493844794                     Hazard (2005)   \n100834     610   163937     3.5  1493848789                Blair Witch (2016)   \n100835     610   163981     3.5  1493850155                         31 (2016)   \n\n                                             genres  \n0       Adventure|Animation|Children|Comedy|Fantasy  \n1       Adventure|Animation|Children|Comedy|Fantasy  \n2       Adventure|Animation|Children|Comedy|Fantasy  \n3       Adventure|Animation|Children|Comedy|Fantasy  \n4       Adventure|Animation|Children|Comedy|Fantasy  \n...                                             ...  \n100831                              Action|Thriller  \n100832                           Action|Crime|Drama  \n100833                        Action|Drama|Thriller  \n100834                              Horror|Thriller  \n100835                                       Horror  \n\n[100836 rows x 6 columns]",
      "text/html": "<div>\n<style scoped>\n    .dataframe tbody tr th:only-of-type {\n        vertical-align: middle;\n    }\n\n    .dataframe tbody tr th {\n        vertical-align: top;\n    }\n\n    .dataframe thead th {\n        text-align: right;\n    }\n</style>\n<table border=\"1\" class=\"dataframe\">\n  <thead>\n    <tr style=\"text-align: right;\">\n      <th></th>\n      <th>userId</th>\n      <th>movieId</th>\n      <th>rating</th>\n      <th>timestamp</th>\n      <th>title</th>\n      <th>genres</th>\n    </tr>\n  </thead>\n  <tbody>\n    <tr>\n      <th>0</th>\n      <td>1</td>\n      <td>1</td>\n      <td>4.0</td>\n      <td>964982703</td>\n      <td>Toy Story (1995)</td>\n      <td>Adventure|Animation|Children|Comedy|Fantasy</td>\n    </tr>\n    <tr>\n      <th>1</th>\n      <td>5</td>\n      <td>1</td>\n      <td>4.0</td>\n      <td>847434962</td>\n      <td>Toy Story (1995)</td>\n      <td>Adventure|Animation|Children|Comedy|Fantasy</td>\n    </tr>\n    <tr>\n      <th>2</th>\n      <td>7</td>\n      <td>1</td>\n      <td>4.5</td>\n      <td>1106635946</td>\n      <td>Toy Story (1995)</td>\n      <td>Adventure|Animation|Children|Comedy|Fantasy</td>\n    </tr>\n    <tr>\n      <th>3</th>\n      <td>15</td>\n      <td>1</td>\n      <td>2.5</td>\n      <td>1510577970</td>\n      <td>Toy Story (1995)</td>\n      <td>Adventure|Animation|Children|Comedy|Fantasy</td>\n    </tr>\n    <tr>\n      <th>4</th>\n      <td>17</td>\n      <td>1</td>\n      <td>4.5</td>\n      <td>1305696483</td>\n      <td>Toy Story (1995)</td>\n      <td>Adventure|Animation|Children|Comedy|Fantasy</td>\n    </tr>\n    <tr>\n      <th>...</th>\n      <td>...</td>\n      <td>...</td>\n      <td>...</td>\n      <td>...</td>\n      <td>...</td>\n      <td>...</td>\n    </tr>\n    <tr>\n      <th>100831</th>\n      <td>610</td>\n      <td>160341</td>\n      <td>2.5</td>\n      <td>1479545749</td>\n      <td>Bloodmoon (1997)</td>\n      <td>Action|Thriller</td>\n    </tr>\n    <tr>\n      <th>100832</th>\n      <td>610</td>\n      <td>160527</td>\n      <td>4.5</td>\n      <td>1479544998</td>\n      <td>Sympathy for the Underdog (1971)</td>\n      <td>Action|Crime|Drama</td>\n    </tr>\n    <tr>\n      <th>100833</th>\n      <td>610</td>\n      <td>160836</td>\n      <td>3.0</td>\n      <td>1493844794</td>\n      <td>Hazard (2005)</td>\n      <td>Action|Drama|Thriller</td>\n    </tr>\n    <tr>\n      <th>100834</th>\n      <td>610</td>\n      <td>163937</td>\n      <td>3.5</td>\n      <td>1493848789</td>\n      <td>Blair Witch (2016)</td>\n      <td>Horror|Thriller</td>\n    </tr>\n    <tr>\n      <th>100835</th>\n      <td>610</td>\n      <td>163981</td>\n      <td>3.5</td>\n      <td>1493850155</td>\n      <td>31 (2016)</td>\n      <td>Horror</td>\n    </tr>\n  </tbody>\n</table>\n<p>100836 rows × 6 columns</p>\n</div>"
     },
     "metadata": {},
     "output_type": "execute_result",
     "execution_count": 116
    }
   ],
   "source": [
    "movie_data"
   ],
   "metadata": {
    "collapsed": false,
    "pycharm": {
     "name": "#%%\n",
     "is_executing": false
    }
   }
  },
  {
   "cell_type": "code",
   "execution_count": 117,
   "metadata": {
    "pycharm": {
     "is_executing": false
    }
   },
   "outputs": [
    {
     "data": {
      "text/plain": "title   '71 (2014)  'Hellboy': The Seeds of Creation (2004)  \\\nuserId                                                        \n1              NaN                                      NaN   \n2              NaN                                      NaN   \n3              NaN                                      NaN   \n4              NaN                                      NaN   \n5              NaN                                      NaN   \n\ntitle   'Round Midnight (1986)  'Salem's Lot (2004)  \\\nuserId                                                \n1                          NaN                  NaN   \n2                          NaN                  NaN   \n3                          NaN                  NaN   \n4                          NaN                  NaN   \n5                          NaN                  NaN   \n\ntitle   'Til There Was You (1997)  'Tis the Season for Love (2015)  \\\nuserId                                                               \n1                             NaN                              NaN   \n2                             NaN                              NaN   \n3                             NaN                              NaN   \n4                             NaN                              NaN   \n5                             NaN                              NaN   \n\ntitle   'burbs, The (1989)  'night Mother (1986)  (500) Days of Summer (2009)  \\\nuserId                                                                          \n1                      NaN                   NaN                          NaN   \n2                      NaN                   NaN                          NaN   \n3                      NaN                   NaN                          NaN   \n4                      NaN                   NaN                          NaN   \n5                      NaN                   NaN                          NaN   \n\ntitle   *batteries not included (1987)  ...  Zulu (2013)  [REC] (2007)  \\\nuserId                                  ...                              \n1                                  NaN  ...          NaN           NaN   \n2                                  NaN  ...          NaN           NaN   \n3                                  NaN  ...          NaN           NaN   \n4                                  NaN  ...          NaN           NaN   \n5                                  NaN  ...          NaN           NaN   \n\ntitle   [REC]² (2009)  [REC]³ 3 Génesis (2012)  \\\nuserId                                           \n1                 NaN                      NaN   \n2                 NaN                      NaN   \n3                 NaN                      NaN   \n4                 NaN                      NaN   \n5                 NaN                      NaN   \n\ntitle   anohana: The Flower We Saw That Day - The Movie (2013)  \\\nuserId                                                           \n1                                                     NaN        \n2                                                     NaN        \n3                                                     NaN        \n4                                                     NaN        \n5                                                     NaN        \n\ntitle   eXistenZ (1999)  xXx (2002)  xXx: State of the Union (2005)  \\\nuserId                                                                \n1                   NaN         NaN                             NaN   \n2                   NaN         NaN                             NaN   \n3                   NaN         NaN                             NaN   \n4                   NaN         NaN                             NaN   \n5                   NaN         NaN                             NaN   \n\ntitle   ¡Three Amigos! (1986)  À nous la liberté (Freedom for Us) (1931)  \nuserId                                                                    \n1                         4.0                                        NaN  \n2                         NaN                                        NaN  \n3                         NaN                                        NaN  \n4                         NaN                                        NaN  \n5                         NaN                                        NaN  \n\n[5 rows x 9719 columns]",
      "text/html": "<div>\n<style scoped>\n    .dataframe tbody tr th:only-of-type {\n        vertical-align: middle;\n    }\n\n    .dataframe tbody tr th {\n        vertical-align: top;\n    }\n\n    .dataframe thead th {\n        text-align: right;\n    }\n</style>\n<table border=\"1\" class=\"dataframe\">\n  <thead>\n    <tr style=\"text-align: right;\">\n      <th>title</th>\n      <th>'71 (2014)</th>\n      <th>'Hellboy': The Seeds of Creation (2004)</th>\n      <th>'Round Midnight (1986)</th>\n      <th>'Salem's Lot (2004)</th>\n      <th>'Til There Was You (1997)</th>\n      <th>'Tis the Season for Love (2015)</th>\n      <th>'burbs, The (1989)</th>\n      <th>'night Mother (1986)</th>\n      <th>(500) Days of Summer (2009)</th>\n      <th>*batteries not included (1987)</th>\n      <th>...</th>\n      <th>Zulu (2013)</th>\n      <th>[REC] (2007)</th>\n      <th>[REC]² (2009)</th>\n      <th>[REC]³ 3 Génesis (2012)</th>\n      <th>anohana: The Flower We Saw That Day - The Movie (2013)</th>\n      <th>eXistenZ (1999)</th>\n      <th>xXx (2002)</th>\n      <th>xXx: State of the Union (2005)</th>\n      <th>¡Three Amigos! (1986)</th>\n      <th>À nous la liberté (Freedom for Us) (1931)</th>\n    </tr>\n    <tr>\n      <th>userId</th>\n      <th></th>\n      <th></th>\n      <th></th>\n      <th></th>\n      <th></th>\n      <th></th>\n      <th></th>\n      <th></th>\n      <th></th>\n      <th></th>\n      <th></th>\n      <th></th>\n      <th></th>\n      <th></th>\n      <th></th>\n      <th></th>\n      <th></th>\n      <th></th>\n      <th></th>\n      <th></th>\n      <th></th>\n    </tr>\n  </thead>\n  <tbody>\n    <tr>\n      <th>1</th>\n      <td>NaN</td>\n      <td>NaN</td>\n      <td>NaN</td>\n      <td>NaN</td>\n      <td>NaN</td>\n      <td>NaN</td>\n      <td>NaN</td>\n      <td>NaN</td>\n      <td>NaN</td>\n      <td>NaN</td>\n      <td>...</td>\n      <td>NaN</td>\n      <td>NaN</td>\n      <td>NaN</td>\n      <td>NaN</td>\n      <td>NaN</td>\n      <td>NaN</td>\n      <td>NaN</td>\n      <td>NaN</td>\n      <td>4.0</td>\n      <td>NaN</td>\n    </tr>\n    <tr>\n      <th>2</th>\n      <td>NaN</td>\n      <td>NaN</td>\n      <td>NaN</td>\n      <td>NaN</td>\n      <td>NaN</td>\n      <td>NaN</td>\n      <td>NaN</td>\n      <td>NaN</td>\n      <td>NaN</td>\n      <td>NaN</td>\n      <td>...</td>\n      <td>NaN</td>\n      <td>NaN</td>\n      <td>NaN</td>\n      <td>NaN</td>\n      <td>NaN</td>\n      <td>NaN</td>\n      <td>NaN</td>\n      <td>NaN</td>\n      <td>NaN</td>\n      <td>NaN</td>\n    </tr>\n    <tr>\n      <th>3</th>\n      <td>NaN</td>\n      <td>NaN</td>\n      <td>NaN</td>\n      <td>NaN</td>\n      <td>NaN</td>\n      <td>NaN</td>\n      <td>NaN</td>\n      <td>NaN</td>\n      <td>NaN</td>\n      <td>NaN</td>\n      <td>...</td>\n      <td>NaN</td>\n      <td>NaN</td>\n      <td>NaN</td>\n      <td>NaN</td>\n      <td>NaN</td>\n      <td>NaN</td>\n      <td>NaN</td>\n      <td>NaN</td>\n      <td>NaN</td>\n      <td>NaN</td>\n    </tr>\n    <tr>\n      <th>4</th>\n      <td>NaN</td>\n      <td>NaN</td>\n      <td>NaN</td>\n      <td>NaN</td>\n      <td>NaN</td>\n      <td>NaN</td>\n      <td>NaN</td>\n      <td>NaN</td>\n      <td>NaN</td>\n      <td>NaN</td>\n      <td>...</td>\n      <td>NaN</td>\n      <td>NaN</td>\n      <td>NaN</td>\n      <td>NaN</td>\n      <td>NaN</td>\n      <td>NaN</td>\n      <td>NaN</td>\n      <td>NaN</td>\n      <td>NaN</td>\n      <td>NaN</td>\n    </tr>\n    <tr>\n      <th>5</th>\n      <td>NaN</td>\n      <td>NaN</td>\n      <td>NaN</td>\n      <td>NaN</td>\n      <td>NaN</td>\n      <td>NaN</td>\n      <td>NaN</td>\n      <td>NaN</td>\n      <td>NaN</td>\n      <td>NaN</td>\n      <td>...</td>\n      <td>NaN</td>\n      <td>NaN</td>\n      <td>NaN</td>\n      <td>NaN</td>\n      <td>NaN</td>\n      <td>NaN</td>\n      <td>NaN</td>\n      <td>NaN</td>\n      <td>NaN</td>\n      <td>NaN</td>\n    </tr>\n  </tbody>\n</table>\n<p>5 rows × 9719 columns</p>\n</div>"
     },
     "metadata": {},
     "output_type": "execute_result",
     "execution_count": 117
    }
   ],
   "source": [
    "user_movie_rating = movie_data.pivot_table(index='userId', columns='title', values='rating')\n",
    "user_movie_rating.head()"
   ]
  },
  {
   "cell_type": "code",
   "execution_count": 118,
   "metadata": {
    "pycharm": {
     "is_executing": false
    }
   },
   "outputs": [],
   "source": [
    "# find all the user ratings for the movie \"Forrest Gump (1994)\"."
   ]
  },
  {
   "cell_type": "code",
   "execution_count": 119,
   "metadata": {
    "pycharm": {
     "is_executing": false
    }
   },
   "outputs": [
    {
     "data": {
      "text/plain": "userId\n1    4.0\n2    NaN\n3    NaN\n4    NaN\n5    NaN\nName: Forrest Gump (1994), dtype: float64"
     },
     "metadata": {},
     "output_type": "execute_result",
     "execution_count": 119
    }
   ],
   "source": [
    "#forrest_gump_ratings = user_movie_rating[user_movie_rating.get('Forrest Gump (1994)').notnull()]\n",
    "forrest_gump_ratings = user_movie_rating['Forrest Gump (1994)']\n",
    "forrest_gump_ratings.head()\n",
    "\n"
   ]
  },
  {
   "cell_type": "code",
   "execution_count": 120,
   "outputs": [
    {
     "data": {
      "text/plain": "userId\n1      4.0\n2      NaN\n3      NaN\n4      NaN\n5      NaN\n      ... \n606    4.0\n607    NaN\n608    3.0\n609    4.0\n610    3.0\nName: Forrest Gump (1994), Length: 610, dtype: float64"
     },
     "metadata": {},
     "output_type": "execute_result",
     "execution_count": 120
    }
   ],
   "source": [
    "user_movie_rating['Forrest Gump (1994)']\n"
   ],
   "metadata": {
    "collapsed": false,
    "pycharm": {
     "name": "#%%\n",
     "is_executing": false
    }
   }
  },
  {
   "cell_type": "code",
   "execution_count": 121,
   "metadata": {
    "pycharm": {
     "is_executing": false
    }
   },
   "outputs": [],
   "source": [
    "# Now let's retrieve all the movies that are similar to \"Forrest Gump (1994)\". \n",
    "# We can find the correlation between the user ratings for the \"Forest Gump (1994)\" and all the other movies using corrwith()"
   ]
  },
  {
   "cell_type": "code",
   "execution_count": 122,
   "metadata": {
    "pycharm": {
     "is_executing": false
    }
   },
   "outputs": [
    {
     "data": {
      "text/plain": "                                Correlation\ntitle                                      \n'burbs, The (1989)                 0.197712\n(500) Days of Summer (2009)        0.234095\n*batteries not included (1987)     0.892710\n...And Justice for All (1979)      0.928571\n10 Cent Pistol (2015)             -1.000000",
      "text/html": "<div>\n<style scoped>\n    .dataframe tbody tr th:only-of-type {\n        vertical-align: middle;\n    }\n\n    .dataframe tbody tr th {\n        vertical-align: top;\n    }\n\n    .dataframe thead th {\n        text-align: right;\n    }\n</style>\n<table border=\"1\" class=\"dataframe\">\n  <thead>\n    <tr style=\"text-align: right;\">\n      <th></th>\n      <th>Correlation</th>\n    </tr>\n    <tr>\n      <th>title</th>\n      <th></th>\n    </tr>\n  </thead>\n  <tbody>\n    <tr>\n      <th>'burbs, The (1989)</th>\n      <td>0.197712</td>\n    </tr>\n    <tr>\n      <th>(500) Days of Summer (2009)</th>\n      <td>0.234095</td>\n    </tr>\n    <tr>\n      <th>*batteries not included (1987)</th>\n      <td>0.892710</td>\n    </tr>\n    <tr>\n      <th>...And Justice for All (1979)</th>\n      <td>0.928571</td>\n    </tr>\n    <tr>\n      <th>10 Cent Pistol (2015)</th>\n      <td>-1.000000</td>\n    </tr>\n  </tbody>\n</table>\n</div>"
     },
     "metadata": {},
     "output_type": "execute_result",
     "execution_count": 122
    }
   ],
   "source": [
    "movies_like_forest_gump = user_movie_rating.corrwith(forrest_gump_ratings, axis = 0)\n",
    "corr_forrest_gump = pd.DataFrame(movies_like_forest_gump, columns=['Correlation'])\n",
    "corr_forrest_gump.dropna(inplace=True)\n",
    "corr_forrest_gump.head()\n",
    "\n"
   ]
  },
  {
   "cell_type": "code",
   "execution_count": 123,
   "outputs": [
    {
     "data": {
      "text/plain": "title\n'71 (2014)                                        NaN\n'Hellboy': The Seeds of Creation (2004)           NaN\n'Round Midnight (1986)                            NaN\n'Salem's Lot (2004)                               NaN\n'Til There Was You (1997)                         NaN\n                                               ...   \neXistenZ (1999)                              0.011189\nxXx (2002)                                   0.306817\nxXx: State of the Union (2005)               0.383482\n¡Three Amigos! (1986)                        0.449692\nÀ nous la liberté (Freedom for Us) (1931)         NaN\nLength: 9719, dtype: float64"
     },
     "metadata": {},
     "output_type": "execute_result",
     "execution_count": 123
    }
   ],
   "source": [
    "movies_like_forest_gump"
   ],
   "metadata": {
    "collapsed": false,
    "pycharm": {
     "name": "#%%\n",
     "is_executing": false
    }
   }
  },
  {
   "cell_type": "code",
   "execution_count": 124,
   "metadata": {
    "pycharm": {
     "is_executing": false
    }
   },
   "outputs": [],
   "source": [
    "# In the above script, we first retrieved the list of all the movies related to \"Forrest Gump (1994)\" \n",
    "# along with their correlation value, using corrwith() function. \n",
    "# Next, we created a dataframe that contains movie title and correlation columns. \n",
    "# We then removed all the NA values from the dataframe"
   ]
  },
  {
   "cell_type": "code",
   "execution_count": 125,
   "metadata": {
    "pycharm": {
     "is_executing": false
    }
   },
   "outputs": [
    {
     "data": {
      "text/plain": "                                           Correlation\ntitle                                                 \nLost & Found (1999)                                1.0\nCercle Rouge, Le (Red Circle, The) (1970)          1.0\nPlay Time (a.k.a. Playtime) (1967)                 1.0\nKillers (2010)                                     1.0\nPlaying God (1997)                                 1.0\nGirl Walks Home Alone at Night, A (2014)           1.0\nTampopo (1985)                                     1.0\nCentury of the Self, The (2002)                    1.0\nWelcome to the Jungle (2013)                       1.0\nPoison Ivy: New Seduction (1997)                   1.0",
      "text/html": "<div>\n<style scoped>\n    .dataframe tbody tr th:only-of-type {\n        vertical-align: middle;\n    }\n\n    .dataframe tbody tr th {\n        vertical-align: top;\n    }\n\n    .dataframe thead th {\n        text-align: right;\n    }\n</style>\n<table border=\"1\" class=\"dataframe\">\n  <thead>\n    <tr style=\"text-align: right;\">\n      <th></th>\n      <th>Correlation</th>\n    </tr>\n    <tr>\n      <th>title</th>\n      <th></th>\n    </tr>\n  </thead>\n  <tbody>\n    <tr>\n      <th>Lost &amp; Found (1999)</th>\n      <td>1.0</td>\n    </tr>\n    <tr>\n      <th>Cercle Rouge, Le (Red Circle, The) (1970)</th>\n      <td>1.0</td>\n    </tr>\n    <tr>\n      <th>Play Time (a.k.a. Playtime) (1967)</th>\n      <td>1.0</td>\n    </tr>\n    <tr>\n      <th>Killers (2010)</th>\n      <td>1.0</td>\n    </tr>\n    <tr>\n      <th>Playing God (1997)</th>\n      <td>1.0</td>\n    </tr>\n    <tr>\n      <th>Girl Walks Home Alone at Night, A (2014)</th>\n      <td>1.0</td>\n    </tr>\n    <tr>\n      <th>Tampopo (1985)</th>\n      <td>1.0</td>\n    </tr>\n    <tr>\n      <th>Century of the Self, The (2002)</th>\n      <td>1.0</td>\n    </tr>\n    <tr>\n      <th>Welcome to the Jungle (2013)</th>\n      <td>1.0</td>\n    </tr>\n    <tr>\n      <th>Poison Ivy: New Seduction (1997)</th>\n      <td>1.0</td>\n    </tr>\n  </tbody>\n</table>\n</div>"
     },
     "metadata": {},
     "output_type": "execute_result",
     "execution_count": 125
    }
   ],
   "source": [
    "corr_forrest_gump.sort_values('Correlation', ascending=False).head(10)"
   ]
  },
  {
   "cell_type": "code",
   "execution_count": 126,
   "metadata": {
    "pycharm": {
     "is_executing": false
    }
   },
   "outputs": [],
   "source": [
    "# retrieve only those correlated movies that have at least more than 50 ratings. \n",
    "# To do so, will add the rating_counts column from the rating_mean_count dataframe to our corr_forrest_gump dataframe. "
   ]
  },
  {
   "cell_type": "code",
   "execution_count": 127,
   "metadata": {
    "pycharm": {
     "is_executing": false
    }
   },
   "outputs": [
    {
     "data": {
      "text/plain": "                                Correlation  rating_counts\ntitle                                                     \n'burbs, The (1989)                 0.197712             17\n(500) Days of Summer (2009)        0.234095             42\n*batteries not included (1987)     0.892710              7\n...And Justice for All (1979)      0.928571              3\n10 Cent Pistol (2015)             -1.000000              2",
      "text/html": "<div>\n<style scoped>\n    .dataframe tbody tr th:only-of-type {\n        vertical-align: middle;\n    }\n\n    .dataframe tbody tr th {\n        vertical-align: top;\n    }\n\n    .dataframe thead th {\n        text-align: right;\n    }\n</style>\n<table border=\"1\" class=\"dataframe\">\n  <thead>\n    <tr style=\"text-align: right;\">\n      <th></th>\n      <th>Correlation</th>\n      <th>rating_counts</th>\n    </tr>\n    <tr>\n      <th>title</th>\n      <th></th>\n      <th></th>\n    </tr>\n  </thead>\n  <tbody>\n    <tr>\n      <th>'burbs, The (1989)</th>\n      <td>0.197712</td>\n      <td>17</td>\n    </tr>\n    <tr>\n      <th>(500) Days of Summer (2009)</th>\n      <td>0.234095</td>\n      <td>42</td>\n    </tr>\n    <tr>\n      <th>*batteries not included (1987)</th>\n      <td>0.892710</td>\n      <td>7</td>\n    </tr>\n    <tr>\n      <th>...And Justice for All (1979)</th>\n      <td>0.928571</td>\n      <td>3</td>\n    </tr>\n    <tr>\n      <th>10 Cent Pistol (2015)</th>\n      <td>-1.000000</td>\n      <td>2</td>\n    </tr>\n  </tbody>\n</table>\n</div>"
     },
     "metadata": {},
     "output_type": "execute_result",
     "execution_count": 127
    }
   ],
   "source": [
    "corr_forrest_gump = corr_forrest_gump.join(ratings_mean_count['rating_counts'])\n",
    "corr_forrest_gump.head()"
   ]
  },
  {
   "cell_type": "code",
   "execution_count": 128,
   "metadata": {
    "pycharm": {
     "is_executing": false
    }
   },
   "outputs": [],
   "source": [
    "# filter movies correlated to \"Forest Gump (1994)\", that have more than 50 ratings."
   ]
  },
  {
   "cell_type": "code",
   "execution_count": 129,
   "metadata": {
    "pycharm": {
     "is_executing": false
    }
   },
   "outputs": [
    {
     "data": {
      "text/plain": "                           Correlation  rating_counts\ntitle                                                \nForrest Gump (1994)           1.000000            329\nMr. Holland's Opus (1995)     0.652144             80\nPocahontas (1995)             0.550118             68\nGrumpier Old Men (1995)       0.534682             52\nCaddyshack (1980)             0.520328             52",
      "text/html": "<div>\n<style scoped>\n    .dataframe tbody tr th:only-of-type {\n        vertical-align: middle;\n    }\n\n    .dataframe tbody tr th {\n        vertical-align: top;\n    }\n\n    .dataframe thead th {\n        text-align: right;\n    }\n</style>\n<table border=\"1\" class=\"dataframe\">\n  <thead>\n    <tr style=\"text-align: right;\">\n      <th></th>\n      <th>Correlation</th>\n      <th>rating_counts</th>\n    </tr>\n    <tr>\n      <th>title</th>\n      <th></th>\n      <th></th>\n    </tr>\n  </thead>\n  <tbody>\n    <tr>\n      <th>Forrest Gump (1994)</th>\n      <td>1.000000</td>\n      <td>329</td>\n    </tr>\n    <tr>\n      <th>Mr. Holland's Opus (1995)</th>\n      <td>0.652144</td>\n      <td>80</td>\n    </tr>\n    <tr>\n      <th>Pocahontas (1995)</th>\n      <td>0.550118</td>\n      <td>68</td>\n    </tr>\n    <tr>\n      <th>Grumpier Old Men (1995)</th>\n      <td>0.534682</td>\n      <td>52</td>\n    </tr>\n    <tr>\n      <th>Caddyshack (1980)</th>\n      <td>0.520328</td>\n      <td>52</td>\n    </tr>\n  </tbody>\n</table>\n</div>"
     },
     "metadata": {},
     "output_type": "execute_result",
     "execution_count": 129
    }
   ],
   "source": [
    "corr_forrest_gump[corr_forrest_gump ['rating_counts']>50].sort_values('Correlation', ascending=False).head()"
   ]
  },
  {
   "cell_type": "code",
   "execution_count": 130,
   "metadata": {
    "pycharm": {
     "is_executing": false
    }
   },
   "outputs": [],
   "source": [
    "# Download the week 10 - Music Data.zip dataset and create a Jupyter Notebook “RecommenderSystemsMusic.ipynb”. Do the following\n",
    "\n",
    "#     a) Clean the dataset if necessary\n",
    "\n",
    "#     b) Display the top 10 artists correlated to \"Michael Jackson\" based on the user's listen_count\n",
    "\n",
    "#     c) Display the top 10 artists correlated to \"Michael Jackson\" based on the user tags\n",
    "\n",
    "#     d) Reccommend 5 artists to the user with userID = 129 based on his friends' listen_counts \n",
    "\n",
    "#     e) Submit the “RecommenderSystemsMusic.ipynb”\n",
    "\n",
    "# Hint: Combine different data files together as necassary for part b), c) and d)"
   ]
  }
 ],
 "metadata": {
  "kernelspec": {
   "display_name": "Python 3",
   "language": "python",
   "name": "python3"
  },
  "language_info": {
   "codemirror_mode": {
    "name": "ipython",
    "version": 3
   },
   "file_extension": ".py",
   "mimetype": "text/x-python",
   "name": "python",
   "nbconvert_exporter": "python",
   "pygments_lexer": "ipython3",
   "version": "3.7.4"
  },
  "pycharm": {
   "stem_cell": {
    "cell_type": "raw",
    "source": [],
    "metadata": {
     "collapsed": false
    }
   }
  }
 },
 "nbformat": 4,
 "nbformat_minor": 2
}
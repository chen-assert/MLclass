{
 "cells": [
  {
   "cell_type": "code",
   "execution_count": 55,
   "outputs": [],
   "source": [
    "# Import required libraries"
   ],
   "metadata": {
    "collapsed": false,
    "pycharm": {
     "name": "#%%\n",
     "is_executing": false
    }
   }
  },
  {
   "cell_type": "code",
   "execution_count": 56,
   "outputs": [],
   "source": [
    "import pandas as pd\n",
    "import numpy as np\n",
    "from sklearn import metrics #Import scikit-learn metrics module for accuracy calculation"
   ],
   "metadata": {
    "collapsed": false,
    "pycharm": {
     "name": "#%%\n",
     "is_executing": false
    }
   }
  },
  {
   "cell_type": "code",
   "execution_count": 57,
   "outputs": [],
   "source": [
    "# Import the Dataset\n",
    "dataset = pd.read_csv(\"disease.csv\")"
   ],
   "metadata": {
    "collapsed": false,
    "pycharm": {
     "name": "#%%\n",
     "is_executing": false
    }
   }
  },
  {
   "cell_type": "code",
   "execution_count": 58,
   "outputs": [
    {
     "data": {
      "text/plain": "(768, 10)"
     },
     "metadata": {},
     "output_type": "execute_result",
     "execution_count": 58
    }
   ],
   "source": [
    "# View the number of rows and columns in our dataset\n",
    "dataset.shape"
   ],
   "metadata": {
    "collapsed": false,
    "pycharm": {
     "name": "#%%\n",
     "is_executing": false
    }
   }
  },
  {
   "cell_type": "code",
   "execution_count": 59,
   "outputs": [
    {
     "data": {
      "text/plain": "   Age   BMI  NumPregnancies  GlucoseLevel  BloodPressure  Colesterol  \\\n0   50  33.6               6           148             72         227   \n1   31  26.6               1            85             66           0   \n2   32  23.3               8           183             64         242   \n3   21  28.1               1            89             66           0   \n4   33  43.1               0           137             40         167   \n\n   SkinThickness  Insulin    DPF     Outcome  \n0             35        0  0.627     Disease  \n1             29        0  0.351  No Disease  \n2              0        0  0.672     Disease  \n3             23       94  0.167  No Disease  \n4             35      168  2.288     Disease  ",
      "text/html": "<div>\n<style scoped>\n    .dataframe tbody tr th:only-of-type {\n        vertical-align: middle;\n    }\n\n    .dataframe tbody tr th {\n        vertical-align: top;\n    }\n\n    .dataframe thead th {\n        text-align: right;\n    }\n</style>\n<table border=\"1\" class=\"dataframe\">\n  <thead>\n    <tr style=\"text-align: right;\">\n      <th></th>\n      <th>Age</th>\n      <th>BMI</th>\n      <th>NumPregnancies</th>\n      <th>GlucoseLevel</th>\n      <th>BloodPressure</th>\n      <th>Colesterol</th>\n      <th>SkinThickness</th>\n      <th>Insulin</th>\n      <th>DPF</th>\n      <th>Outcome</th>\n    </tr>\n  </thead>\n  <tbody>\n    <tr>\n      <th>0</th>\n      <td>50</td>\n      <td>33.6</td>\n      <td>6</td>\n      <td>148</td>\n      <td>72</td>\n      <td>227</td>\n      <td>35</td>\n      <td>0</td>\n      <td>0.627</td>\n      <td>Disease</td>\n    </tr>\n    <tr>\n      <th>1</th>\n      <td>31</td>\n      <td>26.6</td>\n      <td>1</td>\n      <td>85</td>\n      <td>66</td>\n      <td>0</td>\n      <td>29</td>\n      <td>0</td>\n      <td>0.351</td>\n      <td>No Disease</td>\n    </tr>\n    <tr>\n      <th>2</th>\n      <td>32</td>\n      <td>23.3</td>\n      <td>8</td>\n      <td>183</td>\n      <td>64</td>\n      <td>242</td>\n      <td>0</td>\n      <td>0</td>\n      <td>0.672</td>\n      <td>Disease</td>\n    </tr>\n    <tr>\n      <th>3</th>\n      <td>21</td>\n      <td>28.1</td>\n      <td>1</td>\n      <td>89</td>\n      <td>66</td>\n      <td>0</td>\n      <td>23</td>\n      <td>94</td>\n      <td>0.167</td>\n      <td>No Disease</td>\n    </tr>\n    <tr>\n      <th>4</th>\n      <td>33</td>\n      <td>43.1</td>\n      <td>0</td>\n      <td>137</td>\n      <td>40</td>\n      <td>167</td>\n      <td>35</td>\n      <td>168</td>\n      <td>2.288</td>\n      <td>Disease</td>\n    </tr>\n  </tbody>\n</table>\n</div>"
     },
     "metadata": {},
     "output_type": "execute_result",
     "execution_count": 59
    }
   ],
   "source": [
    "# Inspect the first five records of the dataset\n",
    "dataset.head()"
   ],
   "metadata": {
    "collapsed": false,
    "pycharm": {
     "name": "#%%\n",
     "is_executing": false
    }
   }
  },
  {
   "cell_type": "code",
   "execution_count": 60,
   "outputs": [],
   "source": [
    "# Divide the data into attributes and labels\n",
    "x = dataset.drop('Outcome', axis=1)\n",
    "y = dataset['Outcome']\n",
    "#convery category data to num data\n",
    "y=y.astype('category').cat.codes"
   ],
   "metadata": {
    "collapsed": false,
    "pycharm": {
     "name": "#%%\n",
     "is_executing": false
    }
   }
  },
  {
   "cell_type": "code",
   "execution_count": 61,
   "outputs": [],
   "source": [
    "# Here the X variable contains all the columns from the dataset, except the \"Class\" column. \n",
    "# The y variable contains the values from the \"Class\" column. \n",
    "# The X variable is the attribute set and y variable contains corresponding labels."
   ],
   "metadata": {
    "collapsed": false,
    "pycharm": {
     "name": "#%%\n",
     "is_executing": false
    }
   }
  },
  {
   "cell_type": "code",
   "execution_count": 62,
   "outputs": [],
   "source": [
    "# Divide the data into training and test sets\n",
    "from sklearn.model_selection import train_test_split\n",
    "x_train, x_test, y_train, y_test = train_test_split(x, y, test_size=0.20)"
   ],
   "metadata": {
    "collapsed": false,
    "pycharm": {
     "name": "#%%\n",
     "is_executing": false
    }
   }
  },
  {
   "cell_type": "code",
   "execution_count": 63,
   "outputs": [],
   "source": [
    "# The model_selection library of Scikit-Learn contains train_test_split method.\n",
    "# We can use it to randomly split the data into training and testing sets.\n",
    "# The test_size parameter specifies the ratio of the test set.\n",
    "# We to split up 20% of the data in to the test set and 80% for training."
   ],
   "metadata": {
    "collapsed": false,
    "pycharm": {
     "name": "#%%\n",
     "is_executing": false
    }
   }
  },
  {
   "cell_type": "code",
   "execution_count": 64,
   "outputs": [],
   "source": [
    "# Now we can train the logistic regression algorithm on this data and make predictions. \n",
    "# Scikit-Learn contains the linear model library, which contains built-in classes/methods for various logistic regression algorithms."
   ],
   "metadata": {
    "collapsed": false,
    "pycharm": {
     "name": "#%%\n",
     "is_executing": false
    }
   }
  },
  {
   "cell_type": "code",
   "execution_count": 65,
   "outputs": [
    {
     "name": "stderr",
     "text": [
      "c:\\users\\jingr\\appdata\\local\\programs\\python\\python36\\lib\\site-packages\\sklearn\\linear_model\\logistic.py:757: ConvergenceWarning: lbfgs failed to converge. Increase the number of iterations.\n  \"of iterations.\", ConvergenceWarning)\n"
     ],
     "output_type": "stream"
    },
    {
     "data": {
      "text/plain": "LogisticRegression(C=1.0, class_weight=None, dual=False, fit_intercept=True,\n          intercept_scaling=1, max_iter=100, multi_class='warn',\n          n_jobs=None, penalty='l2', random_state=None, solver='lbfgs',\n          tol=0.0001, verbose=0, warm_start=False)"
     },
     "metadata": {},
     "output_type": "execute_result",
     "execution_count": 65
    }
   ],
   "source": [
    "# import the class\n",
    "from sklearn.linear_model import LogisticRegression\n",
    "# instantiate the model (using the default parameters)\n",
    "logreg = LogisticRegression(solver='lbfgs',max_iter=100)\n",
    "# fit the model with data\n",
    "logreg.fit(x_train,y_train)"
   ],
   "metadata": {
    "collapsed": false,
    "pycharm": {
     "name": "#%%\n",
     "is_executing": false
    }
   }
  },
  {
   "cell_type": "code",
   "execution_count": 66,
   "outputs": [],
   "source": [
    "# For more information refer\n",
    "# https://scikit-learn.org/stable/modules/generated/sklearn.linear_model.LogisticRegression.html"
   ],
   "metadata": {
    "collapsed": false,
    "pycharm": {
     "name": "#%%\n",
     "is_executing": false
    }
   }
  },
  {
   "cell_type": "code",
   "execution_count": 67,
   "outputs": [],
   "source": [
    "# Now we can make predictions on the test data. \n",
    "# To make predictions, the predict method is used."
   ],
   "metadata": {
    "collapsed": false,
    "pycharm": {
     "name": "#%%\n",
     "is_executing": false
    }
   }
  },
  {
   "cell_type": "code",
   "execution_count": 68,
   "outputs": [],
   "source": [
    "y_pred=logreg.predict(x_test)"
   ],
   "metadata": {
    "collapsed": false,
    "pycharm": {
     "name": "#%%\n",
     "is_executing": false
    }
   }
  },
  {
   "cell_type": "code",
   "execution_count": 69,
   "outputs": [
    {
     "name": "stdout",
     "text": [
      "Accuracy: 0.7857142857142857\n"
     ],
     "output_type": "stream"
    }
   ],
   "source": [
    "# Model Accuracy, how often is the classifier correct?\n",
    "print(\"Accuracy:\",metrics.accuracy_score(y_test, y_pred))"
   ],
   "metadata": {
    "collapsed": false,
    "pycharm": {
     "name": "#%%\n",
     "is_executing": false
    }
   }
  },
  {
   "cell_type": "code",
   "execution_count": 70,
   "outputs": [],
   "source": [
    "# Download the disease.csv and create a Jupyter Notebook “LogisticRegressionDisease.ipynb”. Do the following\n",
    "\n",
    "#     a) Clean the dataset if necessary\n",
    "\n",
    "#     b) Perform preprocessing if necassary\n",
    "\n",
    "#     c) Calculate the accuracy of prediction of \"Outcome\" when the maximum number of iterations taken for the solvers to converge is\n",
    "#          i) 10\n",
    "#         ii) 25\n",
    "#        iii) 50\n",
    "#         iv) 100\n",
    "#        What is your observation?\n",
    "\n",
    "#     e) Submit the “LogisticRegressionDisease.ipynb”"
   ],
   "metadata": {
    "collapsed": false,
    "pycharm": {
     "name": "#%%\n",
     "is_executing": false
    }
   }
  },
  {
   "cell_type": "code",
   "execution_count": 71,
   "outputs": [
    {
     "name": "stdout",
     "text": [
      "Accuracy: 0.7857142857142857\nPrecision: 0.8407079646017699\nRecall: 0.8636363636363636\n"
     ],
     "output_type": "stream"
    }
   ],
   "source": [
    "# Model Accuracy, Precision and Recall\n",
    "print(\"Accuracy:\",metrics.accuracy_score(y_test, y_pred))\n",
    "print(\"Precision:\",metrics.precision_score(y_test, y_pred))\n",
    "print(\"Recall:\",metrics.recall_score(y_test, y_pred))"
   ],
   "metadata": {
    "collapsed": false,
    "pycharm": {
     "name": "#%%\n",
     "is_executing": false
    }
   }
  },
  {
   "cell_type": "code",
   "execution_count": 72,
   "outputs": [
    {
     "data": {
      "text/plain": "array([[26, 18],\n       [15, 95]], dtype=int64)"
     },
     "metadata": {},
     "output_type": "execute_result",
     "execution_count": 72
    }
   ],
   "source": [
    "# Generating the confusion matrix\n",
    "from sklearn.metrics import confusion_matrix\n",
    "cnf_matrix = confusion_matrix(y_test, y_pred)\n",
    "cnf_matrix"
   ],
   "metadata": {
    "collapsed": false,
    "pycharm": {
     "name": "#%%\n",
     "is_executing": false
    }
   }
  },
  {
   "cell_type": "code",
   "execution_count": 73,
   "outputs": [],
   "source": [
    "# For more information refer\n",
    "# https://scikit-learn.org/stable/modules/generated/sklearn.metrics.confusion_matrix.html"
   ],
   "metadata": {
    "collapsed": false,
    "pycharm": {
     "name": "#%%\n",
     "is_executing": false
    }
   }
  },
  {
   "cell_type": "code",
   "execution_count": 74,
   "outputs": [
    {
     "data": {
      "text/plain": "0.8214876033057852"
     },
     "metadata": {},
     "output_type": "execute_result",
     "execution_count": 74
    }
   ],
   "source": [
    "# Computing the Receiver operating characteristic (ROC)\n",
    "y_pred_proba = logreg.predict_proba(x_test)[::,1]\n",
    "fpr, tpr, _= metrics.roc_curve(y_test,  y_pred_proba)\n",
    "\n",
    "# Compute Area Under the Receiver Operating Characteristic Curve (ROC AUC) from prediction scores.\n",
    "auc = metrics.roc_auc_score(y_test, y_pred_proba)\n",
    "auc"
   ],
   "metadata": {
    "collapsed": false,
    "pycharm": {
     "name": "#%%\n",
     "is_executing": false
    }
   }
  },
  {
   "cell_type": "code",
   "execution_count": 75,
   "outputs": [],
   "source": [
    "# For more information refer\n",
    "# https://scikit-learn.org/stable/modules/generated/sklearn.metrics.roc_curve.html\n",
    "# https://scikit-learn.org/stable/modules/generated/sklearn.metrics.roc_auc_score.html"
   ],
   "metadata": {
    "collapsed": false,
    "pycharm": {
     "name": "#%%\n",
     "is_executing": false
    }
   }
  },
  {
   "cell_type": "code",
   "execution_count": 76,
   "outputs": [
    {
     "data": {
      "text/plain": "<Figure size 432x288 with 1 Axes>",
      "image/png": "[encoded data removed]"
     },
     "metadata": {
      "needs_background": "light"
     },
     "output_type": "display_data"
    }
   ],
   "source": [
    "# Plotting the ROC curve\n",
    "# import required modules\n",
    "import matplotlib.pyplot as plt\n",
    "plt.plot(fpr,tpr,label=\"data 1, auc=\"+str(auc))\n",
    "plt.legend(loc=4)\n",
    "plt.show()"
   ],
   "metadata": {
    "collapsed": false,
    "pycharm": {
     "name": "#%%\n",
     "is_executing": false
    }
   }
  },
  {
   "cell_type": "code",
   "execution_count": 77,
   "outputs": [],
   "source": [
    "# Start with the Jupyter Notebook “LogisticRegressionDisease.ipynb” you created for the assignment in week 8. Do the following\n",
    "\n",
    "#     a) Print the Accuracy, Precision and Recall for your model\n",
    "\n",
    "#     b) Print the confusion matrix\n",
    "\n",
    "#     c) Print the ROC AUC from prediction scores\n",
    "\n",
    "#     d) Plot the ROC curve\n",
    "\n",
    "#     e) Submit the “LogisticRegressionDisease.ipynb”"
   ],
   "metadata": {
    "collapsed": false,
    "pycharm": {
     "name": "#%%\n",
     "is_executing": false
    }
   }
  },
  {
   "cell_type": "code",
   "execution_count": 77,
   "outputs": [],
   "source": [],
   "metadata": {
    "collapsed": false,
    "pycharm": {
     "name": "#%%\n",
     "is_executing": false
    }
   }
  }
 ],
 "metadata": {
  "kernelspec": {
   "display_name": "Python 3",
   "language": "python",
   "name": "python3"
  },
  "language_info": {
   "codemirror_mode": {
    "name": "ipython",
    "version": 2
   },
   "file_extension": ".py",
   "mimetype": "text/x-python",
   "name": "python",
   "nbconvert_exporter": "python",
   "pygments_lexer": "ipython2",
   "version": "2.7.6"
  },
  "pycharm": {
   "stem_cell": {
    "cell_type": "raw",
    "source": [],
    "metadata": {
     "collapsed": false
    }
   }
  }
 },
 "nbformat": 4,
 "nbformat_minor": 0
}
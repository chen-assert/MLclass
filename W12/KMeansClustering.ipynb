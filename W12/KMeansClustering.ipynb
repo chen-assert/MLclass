{
 "cells": [
  {
   "cell_type": "code",
   "execution_count": 2,
   "metadata": {
    "pycharm": {
     "is_executing": false
    }
   },
   "outputs": [],
   "source": [
    "# Import required libraries\n",
    "\n",
    "import pandas as pd\n",
    "from scipy import stats\n",
    "from sklearn.cluster import KMeans\n",
    "import matplotlib.pyplot as plt\n",
    "import seaborn as sns"
   ]
  },
  {
   "cell_type": "code",
   "execution_count": 7,
   "metadata": {
    "pycharm": {
     "is_executing": false
    }
   },
   "outputs": [],
   "source": [
    "# Import the Dataset\n",
    "df = pd.read_csv(\"iris.csv\")"
   ]
  },
  {
   "cell_type": "code",
   "execution_count": 8,
   "metadata": {
    "pycharm": {
     "is_executing": false
    }
   },
   "outputs": [
    {
     "data": {
      "text/plain": "(150, 5)"
     },
     "metadata": {},
     "output_type": "execute_result",
     "execution_count": 8
    }
   ],
   "source": [
    "# View the number of rows and columns in our dataset\n",
    "df.shape"
   ]
  },
  {
   "cell_type": "code",
   "execution_count": 6,
   "metadata": {
    "pycharm": {
     "is_executing": false
    }
   },
   "outputs": [
    {
     "data": {
      "text/plain": "   sepal-length  sepal-width  petal-length  petal-width        Class\n0           5.1          3.5           1.4          0.2  Iris-setosa\n1           4.9          3.0           1.4          0.2  Iris-setosa\n2           4.7          3.2           1.3          0.2  Iris-setosa\n3           4.6          3.1           1.5          0.2  Iris-setosa\n4           5.0          3.6           1.4          0.2  Iris-setosa",
      "text/html": "<div>\n<style scoped>\n    .dataframe tbody tr th:only-of-type {\n        vertical-align: middle;\n    }\n\n    .dataframe tbody tr th {\n        vertical-align: top;\n    }\n\n    .dataframe thead th {\n        text-align: right;\n    }\n</style>\n<table border=\"1\" class=\"dataframe\">\n  <thead>\n    <tr style=\"text-align: right;\">\n      <th></th>\n      <th>sepal-length</th>\n      <th>sepal-width</th>\n      <th>petal-length</th>\n      <th>petal-width</th>\n      <th>Class</th>\n    </tr>\n  </thead>\n  <tbody>\n    <tr>\n      <th>0</th>\n      <td>5.1</td>\n      <td>3.5</td>\n      <td>1.4</td>\n      <td>0.2</td>\n      <td>Iris-setosa</td>\n    </tr>\n    <tr>\n      <th>1</th>\n      <td>4.9</td>\n      <td>3.0</td>\n      <td>1.4</td>\n      <td>0.2</td>\n      <td>Iris-setosa</td>\n    </tr>\n    <tr>\n      <th>2</th>\n      <td>4.7</td>\n      <td>3.2</td>\n      <td>1.3</td>\n      <td>0.2</td>\n      <td>Iris-setosa</td>\n    </tr>\n    <tr>\n      <th>3</th>\n      <td>4.6</td>\n      <td>3.1</td>\n      <td>1.5</td>\n      <td>0.2</td>\n      <td>Iris-setosa</td>\n    </tr>\n    <tr>\n      <th>4</th>\n      <td>5.0</td>\n      <td>3.6</td>\n      <td>1.4</td>\n      <td>0.2</td>\n      <td>Iris-setosa</td>\n    </tr>\n  </tbody>\n</table>\n</div>"
     },
     "metadata": {},
     "output_type": "execute_result",
     "execution_count": 6
    }
   ],
   "source": [
    "# Inspect the first five records of the dataset\n",
    "df.head()"
   ]
  },
  {
   "cell_type": "code",
   "execution_count": 9,
   "metadata": {
    "pycharm": {
     "is_executing": false
    }
   },
   "outputs": [],
   "source": [
    "# KMeans Clustering is an unsupervise machine learning technique. We do not have an idea about what the number of actual classes.\n",
    "# However the iris dataset contains that informaton. So the first thing we have to do is removing that information.\n",
    "# Remove the \"Class\" column from the dataset\n",
    "\n",
    "df_tr = df.drop('Class', axis=1)\n",
    "y = df['Class']"
   ]
  },
  {
   "cell_type": "code",
   "execution_count": 10,
   "metadata": {
    "pycharm": {
     "is_executing": false
    }
   },
   "outputs": [],
   "source": [
    "# Standardize the data\n",
    "# for more information refer https://docs.scipy.org/doc/scipy/reference/generated/scipy.stats.zscore.html\n",
    "\n",
    "clmns = ['sepal-length', 'sepal-width','petal-length', 'petal-width']\n",
    "df_tr_std = stats.zscore(df_tr[clmns])"
   ]
  },
  {
   "cell_type": "code",
   "execution_count": 11,
   "metadata": {
    "pycharm": {
     "is_executing": false
    }
   },
   "outputs": [],
   "source": [
    "# Cluster the data using KMeans\n",
    "# For more information refer https://scikit-learn.org/stable/modules/generated/sklearn.cluster.KMeans.html\n",
    "\n",
    "kmeans = KMeans(n_clusters=2).fit(df_tr_std)"
   ]
  },
  {
   "cell_type": "code",
   "execution_count": 13,
   "metadata": {
    "pycharm": {
     "is_executing": false
    }
   },
   "outputs": [
    {
     "name": "stdout",
     "text": [
      "[0 0 0 0 0 0 0 0 0 0 0 0 0 0 0 0 0 0 0 0 0 0 0 0 0 0 0 0 0 0 0 0 0 0 0 0 0\n 0 0 0 0 0 0 0 0 0 0 0 0 0 1 1 1 1 1 1 1 1 1 1 1 1 1 1 1 1 1 1 1 1 1 1 1 1\n 1 1 1 1 1 1 1 1 1 1 1 1 1 1 1 1 1 1 1 1 1 1 1 1 1 1 1 1 1 1 1 1 1 1 1 1 1\n 1 1 1 1 1 1 1 1 1 1 1 1 1 1 1 1 1 1 1 1 1 1 1 1 1 1 1 1 1 1 1 1 1 1 1 1 1\n 1 1]\n"
     ],
     "output_type": "stream"
    }
   ],
   "source": [
    "# Get the cluster labels\n",
    "\n",
    "labels = kmeans.labels_\n",
    "print(kmeans.labels_)"
   ]
  },
  {
   "cell_type": "code",
   "execution_count": 14,
   "metadata": {
    "pycharm": {
     "is_executing": false
    }
   },
   "outputs": [
    {
     "name": "stdout",
     "text": [
      "0.580184463257396\n"
     ],
     "output_type": "stream"
    }
   ],
   "source": [
    "# Calculate silhouette_score\n",
    "\n",
    "from sklearn.metrics import silhouette_score\n",
    "\n",
    "print(silhouette_score(df_tr_std, kmeans.labels_))"
   ]
  },
  {
   "cell_type": "code",
   "execution_count": 15,
   "metadata": {
    "pycharm": {
     "is_executing": false
    }
   },
   "outputs": [],
   "source": [
    "# Now that we have lables to our data we can stick the lables to the dataset\n",
    "\n",
    "df_tr['clusters'] = labels"
   ]
  },
  {
   "cell_type": "code",
   "execution_count": 16,
   "metadata": {
    "pycharm": {
     "is_executing": false
    }
   },
   "outputs": [],
   "source": [
    "# Add a new column name into our column list\n",
    "\n",
    "clmns.extend(['clusters'])"
   ]
  },
  {
   "cell_type": "code",
   "execution_count": 18,
   "metadata": {
    "pycharm": {
     "is_executing": false
    }
   },
   "outputs": [
    {
     "data": {
      "text/plain": "          sepal-length  sepal-width  petal-length  petal-width\nclusters                                                      \n0                5.006        3.418         1.464        0.244\n1                6.262        2.872         4.906        1.676",
      "text/html": "<div>\n<style scoped>\n    .dataframe tbody tr th:only-of-type {\n        vertical-align: middle;\n    }\n\n    .dataframe tbody tr th {\n        vertical-align: top;\n    }\n\n    .dataframe thead th {\n        text-align: right;\n    }\n</style>\n<table border=\"1\" class=\"dataframe\">\n  <thead>\n    <tr style=\"text-align: right;\">\n      <th></th>\n      <th>sepal-length</th>\n      <th>sepal-width</th>\n      <th>petal-length</th>\n      <th>petal-width</th>\n    </tr>\n    <tr>\n      <th>clusters</th>\n      <th></th>\n      <th></th>\n      <th></th>\n      <th></th>\n    </tr>\n  </thead>\n  <tbody>\n    <tr>\n      <th>0</th>\n      <td>5.006</td>\n      <td>3.418</td>\n      <td>1.464</td>\n      <td>0.244</td>\n    </tr>\n    <tr>\n      <th>1</th>\n      <td>6.262</td>\n      <td>2.872</td>\n      <td>4.906</td>\n      <td>1.676</td>\n    </tr>\n  </tbody>\n</table>\n</div>"
     },
     "metadata": {},
     "output_type": "execute_result",
     "execution_count": 18
    }
   ],
   "source": [
    "# We can now analyze the clusters\n",
    "\n",
    "df_tr.groupby(['clusters']).mean()"
   ]
  },
  {
   "cell_type": "code",
   "execution_count": 20,
   "metadata": {
    "pycharm": {
     "is_executing": false
    }
   },
   "outputs": [
    {
     "data": {
      "text/plain": "Text(27.090347222222235, 0.5, 'petal-width')"
     },
     "metadata": {},
     "output_type": "execute_result",
     "execution_count": 20
    },
    {
     "data": {
      "text/plain": "<Figure size 407.375x360 with 1 Axes>",
      "image/png": "[encoded data removed]"
     },
     "metadata": {
      "needs_background": "light"
     },
     "output_type": "display_data"
    }
   ],
   "source": [
    "# We can plot the data in a Scatter plot to visualize the clusters.\n",
    "# Chose two features to plot the scatter plot (sepal-length vs petal-width)\n",
    "# For more information refer https://seaborn.pydata.org/generated/seaborn.scatterplot.html\n",
    "\n",
    "sns.lmplot('sepal-length', 'petal-width', \n",
    "           data=df_tr, \n",
    "           fit_reg=False,\n",
    "           hue=\"clusters\")\n",
    "plt.title('Clusters sepal-length vs petal-width')\n",
    "plt.xlabel('sepal-length')\n",
    "plt.ylabel('petal-width')"
   ]
  },
  {
   "cell_type": "code",
   "execution_count": 21,
   "metadata": {
    "pycharm": {
     "is_executing": false
    }
   },
   "outputs": [
    {
     "data": {
      "text/plain": "Text(34.54250000000001, 0.5, 'petal-width')"
     },
     "metadata": {},
     "output_type": "execute_result",
     "execution_count": 21
    },
    {
     "data": {
      "text/plain": "<Figure size 463.5x360 with 1 Axes>",
      "image/png": "[encoded data removed]"
     },
     "metadata": {
      "needs_background": "light"
     },
     "output_type": "display_data"
    }
   ],
   "source": [
    "# Since we have the original clusters we can plot another scatter plot using that to compare our result with the original\n",
    "# Scatter plot of sepal-length vs petal-width\n",
    "\n",
    "sns.lmplot('sepal-length', 'petal-width', \n",
    "           data=df, \n",
    "           fit_reg=False, \n",
    "           hue=\"Class\")\n",
    "plt.title('Clusters sepal-length vs petal-width')\n",
    "plt.xlabel('sepal-length')\n",
    "plt.ylabel('petal-width')"
   ]
  },
  {
   "cell_type": "code",
   "execution_count": 34,
   "metadata": {},
   "outputs": [],
   "source": [
    "# Download the wine.csv and create a Jupyter Notebook “kMeansWine.ipynb”. Do the following\n",
    "\n",
    "#     a) Clean the dataset if necessary\n",
    "\n",
    "#     b) Identify the best K value\n",
    "\n",
    "#     c) Draw a scatter plot for the clustered data\n",
    "\n",
    "#     d) Draw a scatter plot for the actual data\n",
    "\n",
    "#     e) Submit the “kMeansWine.ipynb”"
   ]
  }
 ],
 "metadata": {
  "kernelspec": {
   "display_name": "Python 3",
   "language": "python",
   "name": "python3"
  },
  "language_info": {
   "codemirror_mode": {
    "name": "ipython",
    "version": 3
   },
   "file_extension": ".py",
   "mimetype": "text/x-python",
   "name": "python",
   "nbconvert_exporter": "python",
   "pygments_lexer": "ipython3",
   "version": "3.7.4"
  }
 },
 "nbformat": 4,
 "nbformat_minor": 2
}
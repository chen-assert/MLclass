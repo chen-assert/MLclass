{
 "cells": [
  {
   "cell_type": "code",
   "execution_count": 1,
   "metadata": {
    "collapsed": true,
    "pycharm": {
     "is_executing": false
    }
   },
   "outputs": [],
   "source": [
    "import pandas as pd\n",
    "import numpy as np\n",
    "from sklearn import metrics #Import scikit-learn metrics module for accuracy calculation"
   ]
  },
  {
   "cell_type": "code",
   "execution_count": 2,
   "outputs": [],
   "source": [
    "dataset = pd.read_csv(\"gestational.csv\")"
   ],
   "metadata": {
    "collapsed": false,
    "pycharm": {
     "name": "#%%\n",
     "is_executing": false
    }
   }
  },
  {
   "cell_type": "code",
   "execution_count": 3,
   "outputs": [
    {
     "name": "stdout",
     "text": [
      "(768, 10)\n"
     ],
     "output_type": "stream"
    },
    {
     "data": {
      "text/plain": "   Age   BMI  NumPregnancies  GlucoseLevel  BloodPressure  Colesterol  \\\n0   50  33.6               6           148             72         227   \n1   31  26.6               1            85             66           0   \n2   32  23.3               8           183             64         242   \n3   21  28.1               1            89             66           0   \n4   33  43.1               0           137             40         167   \n\n   SkinThickness  Insulin    DPF  Outcome  \n0             35        0  0.627        1  \n1             29        0  0.351        0  \n2              0        0  0.672        1  \n3             23       94  0.167        0  \n4             35      168  2.288        1  ",
      "text/html": "<div>\n<style scoped>\n    .dataframe tbody tr th:only-of-type {\n        vertical-align: middle;\n    }\n\n    .dataframe tbody tr th {\n        vertical-align: top;\n    }\n\n    .dataframe thead th {\n        text-align: right;\n    }\n</style>\n<table border=\"1\" class=\"dataframe\">\n  <thead>\n    <tr style=\"text-align: right;\">\n      <th></th>\n      <th>Age</th>\n      <th>BMI</th>\n      <th>NumPregnancies</th>\n      <th>GlucoseLevel</th>\n      <th>BloodPressure</th>\n      <th>Colesterol</th>\n      <th>SkinThickness</th>\n      <th>Insulin</th>\n      <th>DPF</th>\n      <th>Outcome</th>\n    </tr>\n  </thead>\n  <tbody>\n    <tr>\n      <th>0</th>\n      <td>50</td>\n      <td>33.6</td>\n      <td>6</td>\n      <td>148</td>\n      <td>72</td>\n      <td>227</td>\n      <td>35</td>\n      <td>0</td>\n      <td>0.627</td>\n      <td>1</td>\n    </tr>\n    <tr>\n      <th>1</th>\n      <td>31</td>\n      <td>26.6</td>\n      <td>1</td>\n      <td>85</td>\n      <td>66</td>\n      <td>0</td>\n      <td>29</td>\n      <td>0</td>\n      <td>0.351</td>\n      <td>0</td>\n    </tr>\n    <tr>\n      <th>2</th>\n      <td>32</td>\n      <td>23.3</td>\n      <td>8</td>\n      <td>183</td>\n      <td>64</td>\n      <td>242</td>\n      <td>0</td>\n      <td>0</td>\n      <td>0.672</td>\n      <td>1</td>\n    </tr>\n    <tr>\n      <th>3</th>\n      <td>21</td>\n      <td>28.1</td>\n      <td>1</td>\n      <td>89</td>\n      <td>66</td>\n      <td>0</td>\n      <td>23</td>\n      <td>94</td>\n      <td>0.167</td>\n      <td>0</td>\n    </tr>\n    <tr>\n      <th>4</th>\n      <td>33</td>\n      <td>43.1</td>\n      <td>0</td>\n      <td>137</td>\n      <td>40</td>\n      <td>167</td>\n      <td>35</td>\n      <td>168</td>\n      <td>2.288</td>\n      <td>1</td>\n    </tr>\n  </tbody>\n</table>\n</div>"
     },
     "metadata": {},
     "output_type": "execute_result",
     "execution_count": 3
    }
   ],
   "source": [
    "print(dataset.shape)\n",
    "dataset.head()"
   ],
   "metadata": {
    "collapsed": false,
    "pycharm": {
     "name": "#%%\n",
     "is_executing": false
    }
   }
  },
  {
   "cell_type": "code",
   "execution_count": 4,
   "outputs": [
    {
     "name": "stdout",
     "text": [
      "<class 'pandas.core.frame.DataFrame'>\nRangeIndex: 768 entries, 0 to 767\nData columns (total 10 columns):\nAge               768 non-null int64\nBMI               768 non-null float64\nNumPregnancies    768 non-null int64\nGlucoseLevel      768 non-null int64\nBloodPressure     768 non-null int64\nColesterol        768 non-null int64\nSkinThickness     768 non-null int64\nInsulin           768 non-null int64\nDPF               768 non-null float64\nOutcome           768 non-null int64\ndtypes: float64(2), int64(8)\nmemory usage: 60.1 KB\n"
     ],
     "output_type": "stream"
    }
   ],
   "source": [
    "#dataset.isna()\n",
    "dataset.info()\n"
   ],
   "metadata": {
    "collapsed": false,
    "pycharm": {
     "name": "#%%\n",
     "is_executing": false
    }
   }
  },
  {
   "cell_type": "code",
   "execution_count": 5,
   "outputs": [],
   "source": [
    "x = dataset.drop('Outcome', axis=1)\n",
    "y = dataset['Outcome']\n",
    "from sklearn.model_selection import train_test_split\n",
    "x_train, x_test, y_train, y_test = train_test_split(x, y, test_size=0.20)\n",
    "\n"
   ],
   "metadata": {
    "collapsed": false,
    "pycharm": {
     "name": "#%%\n",
     "is_executing": false
    }
   }
  },
  {
   "cell_type": "code",
   "execution_count": 6,
   "outputs": [],
   "source": [
    "from sklearn.tree import DecisionTreeClassifier"
   ],
   "metadata": {
    "collapsed": false,
    "pycharm": {
     "name": "#%%\n",
     "is_executing": false
    }
   }
  },
  {
   "cell_type": "code",
   "execution_count": 7,
   "outputs": [
    {
     "name": "stdout",
     "text": [
      "Accuracy-gini-depth3: 0.7012987012987013\n"
     ],
     "output_type": "stream"
    }
   ],
   "source": [
    "\n",
    "classifier = DecisionTreeClassifier(criterion='gini',max_depth=3)\n",
    "classifier.fit(x_train, y_train)\n",
    "y_pred = classifier.predict(x_test)\n",
    "# Model Accuracy, how often is the classifier correct\n",
    "print(\"Accuracy-gini-depth3:\",metrics.accuracy_score(y_test, y_pred))\n",
    "\n",
    "\n"
   ],
   "metadata": {
    "collapsed": false,
    "pycharm": {
     "name": "#%%\n",
     "is_executing": false
    }
   }
  },
  {
   "cell_type": "code",
   "execution_count": 8,
   "outputs": [
    {
     "name": "stdout",
     "text": [
      "Accuracy-gini-depth4: 0.6883116883116883\n"
     ],
     "output_type": "stream"
    }
   ],
   "source": [
    "classifier = DecisionTreeClassifier(criterion='gini',max_depth=4)\n",
    "classifier.fit(x_train, y_train)\n",
    "y_pred = classifier.predict(x_test)\n",
    "# Model Accuracy, how often is the classifier correct\n",
    "print(\"Accuracy-gini-depth4:\",metrics.accuracy_score(y_test, y_pred))\n"
   ],
   "metadata": {
    "collapsed": false,
    "pycharm": {
     "name": "#%%\n",
     "is_executing": false
    }
   }
  },
  {
   "cell_type": "code",
   "execution_count": 9,
   "outputs": [
    {
     "name": "stdout",
     "text": [
      "Accuracy-gini-entropy3: 0.6948051948051948\n"
     ],
     "output_type": "stream"
    }
   ],
   "source": [
    "classifier = DecisionTreeClassifier(criterion='entropy',max_depth=3)\n",
    "classifier.fit(x_train, y_train)\n",
    "y_pred = classifier.predict(x_test)\n",
    "# Model Accuracy, how often is the classifier correct\n",
    "print(\"Accuracy-gini-entropy3:\",metrics.accuracy_score(y_test, y_pred))\n"
   ],
   "metadata": {
    "collapsed": false,
    "pycharm": {
     "name": "#%%\n",
     "is_executing": false
    }
   }
  },
  {
   "cell_type": "code",
   "execution_count": 10,
   "outputs": [
    {
     "name": "stdout",
     "text": [
      "Accuracy-gini-entropy4: 0.6753246753246753\n"
     ],
     "output_type": "stream"
    }
   ],
   "source": [
    "classifier = DecisionTreeClassifier(criterion='entropy',max_depth=4)\n",
    "classifier.fit(x_train, y_train)\n",
    "y_pred = classifier.predict(x_test)\n",
    "# Model Accuracy, how often is the classifier correct\n",
    "print(\"Accuracy-gini-entropy4:\",metrics.accuracy_score(y_test, y_pred))\n",
    "\n"
   ],
   "metadata": {
    "collapsed": false,
    "pycharm": {
     "name": "#%%\n",
     "is_executing": false
    }
   }
  }
 ],
 "metadata": {
  "kernelspec": {
   "display_name": "Python 3",
   "language": "python",
   "name": "python3"
  },
  "language_info": {
   "codemirror_mode": {
    "name": "ipython",
    "version": 2
   },
   "file_extension": ".py",
   "mimetype": "text/x-python",
   "name": "python",
   "nbconvert_exporter": "python",
   "pygments_lexer": "ipython2",
   "version": "2.7.6"
  },
  "pycharm": {
   "stem_cell": {
    "cell_type": "raw",
    "source": [],
    "metadata": {
     "collapsed": false
    }
   }
  }
 },
 "nbformat": 4,
 "nbformat_minor": 0
}
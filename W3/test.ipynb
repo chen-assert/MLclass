{
 "cells": [
  {
   "cell_type": "code",
   "execution_count": 1,
   "metadata": {
    "collapsed": true,
    "pycharm": {
     "name": "#%%\n",
     "is_executing": false
    }
   },
   "outputs": [
    {
     "name": "stdout",
     "text": [
      "0.6887218755408672\n0.6887221967432631\n0.9387218755408671\n0.6068444500485951\n"
     ],
     "output_type": "stream"
    }
   ],
   "source": [
    "from math import log2\n",
    "def cal(l,num):\n",
    "    r=0\n",
    "    for i in l:\n",
    "        i.append(i[0]-i[1])\n",
    "        r-=i[0]/num*(i[1]/i[0]*log2(i[1]/i[0])+i[2]/i[0]*log2(i[2]/i[0]))\n",
    "    return r\n",
    "height=-(3/8*(2/3*log2(2/3)+1/3*log2(1/3))+2/8*0+3/8*(2/3*log2(2/3)+1/3*log2(1/3)))\n",
    "print(height)\n",
    "he=[[3,2],[2,0.0000001],[3,2]]\n",
    "bu=[[2,1],[3,2],[3,2]]\n",
    "lo=[[5,3],[3,0.0000001]]\n",
    "print(cal(he,8))\n",
    "print(cal(bu,8))\n",
    "print(cal(lo,8))\n"
   ]
  }
 ],
 "metadata": {
  "kernelspec": {
   "display_name": "Python 3",
   "language": "python",
   "name": "python3"
  },
  "language_info": {
   "codemirror_mode": {
    "name": "ipython",
    "version": 2
   },
   "file_extension": ".py",
   "mimetype": "text/x-python",
   "name": "python",
   "nbconvert_exporter": "python",
   "pygments_lexer": "ipython2",
   "version": "2.7.6"
  },
  "pycharm": {
   "stem_cell": {
    "cell_type": "raw",
    "source": [],
    "metadata": {
     "collapsed": false
    }
   }
  }
 },
 "nbformat": 4,
 "nbformat_minor": 0
}
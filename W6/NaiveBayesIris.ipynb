{
 "cells": [
  {
   "cell_type": "code",
   "execution_count": 45,
   "metadata": {
    "pycharm": {
     "is_executing": false
    }
   },
   "outputs": [],
   "source": [
    "# Import required libraries"
   ]
  },
  {
   "cell_type": "code",
   "execution_count": 46,
   "metadata": {
    "pycharm": {
     "is_executing": false
    }
   },
   "outputs": [],
   "source": [
    "import pandas as pd\n",
    "import numpy as np\n",
    "import matplotlib.pyplot as plt\n",
    "from sklearn import metrics #Import scikit-learn metrics module for accuracy calculation"
   ]
  },
  {
   "cell_type": "code",
   "execution_count": 47,
   "metadata": {
    "pycharm": {
     "is_executing": false
    }
   },
   "outputs": [],
   "source": [
    "# Import the Dataset\n",
    "dataset = pd.read_csv(\"iris.csv\")"
   ]
  },
  {
   "cell_type": "code",
   "execution_count": 48,
   "metadata": {
    "pycharm": {
     "is_executing": false
    }
   },
   "outputs": [
    {
     "data": {
      "text/plain": "(150, 5)"
     },
     "metadata": {},
     "output_type": "execute_result",
     "execution_count": 48
    }
   ],
   "source": [
    "# View the number of rows and columns in our dataset\n",
    "dataset.shape"
   ]
  },
  {
   "cell_type": "code",
   "execution_count": 49,
   "metadata": {
    "pycharm": {
     "is_executing": false
    }
   },
   "outputs": [
    {
     "data": {
      "text/plain": "   sepal-length  sepal-width  petal-length  petal-width        Class\n0           5.1          3.5           1.4          0.2  Iris-setosa\n1           4.9          3.0           1.4          0.2  Iris-setosa\n2           4.7          3.2           1.3          0.2  Iris-setosa\n3           4.6          3.1           1.5          0.2  Iris-setosa\n4           5.0          3.6           1.4          0.2  Iris-setosa",
      "text/html": "<div>\n<style scoped>\n    .dataframe tbody tr th:only-of-type {\n        vertical-align: middle;\n    }\n\n    .dataframe tbody tr th {\n        vertical-align: top;\n    }\n\n    .dataframe thead th {\n        text-align: right;\n    }\n</style>\n<table border=\"1\" class=\"dataframe\">\n  <thead>\n    <tr style=\"text-align: right;\">\n      <th></th>\n      <th>sepal-length</th>\n      <th>sepal-width</th>\n      <th>petal-length</th>\n      <th>petal-width</th>\n      <th>Class</th>\n    </tr>\n  </thead>\n  <tbody>\n    <tr>\n      <th>0</th>\n      <td>5.1</td>\n      <td>3.5</td>\n      <td>1.4</td>\n      <td>0.2</td>\n      <td>Iris-setosa</td>\n    </tr>\n    <tr>\n      <th>1</th>\n      <td>4.9</td>\n      <td>3.0</td>\n      <td>1.4</td>\n      <td>0.2</td>\n      <td>Iris-setosa</td>\n    </tr>\n    <tr>\n      <th>2</th>\n      <td>4.7</td>\n      <td>3.2</td>\n      <td>1.3</td>\n      <td>0.2</td>\n      <td>Iris-setosa</td>\n    </tr>\n    <tr>\n      <th>3</th>\n      <td>4.6</td>\n      <td>3.1</td>\n      <td>1.5</td>\n      <td>0.2</td>\n      <td>Iris-setosa</td>\n    </tr>\n    <tr>\n      <th>4</th>\n      <td>5.0</td>\n      <td>3.6</td>\n      <td>1.4</td>\n      <td>0.2</td>\n      <td>Iris-setosa</td>\n    </tr>\n  </tbody>\n</table>\n</div>"
     },
     "metadata": {},
     "output_type": "execute_result",
     "execution_count": 49
    }
   ],
   "source": [
    "# Inspect the first five records of the dataset\n",
    "dataset.head()"
   ]
  },
  {
   "cell_type": "code",
   "execution_count": 50,
   "metadata": {
    "pycharm": {
     "is_executing": false
    }
   },
   "outputs": [],
   "source": [
    "# Divide the data into attributes and labels\n",
    "x = dataset.drop('Class', axis=1)\n",
    "y = dataset['Class']"
   ]
  },
  {
   "cell_type": "code",
   "execution_count": 51,
   "metadata": {
    "pycharm": {
     "is_executing": false
    }
   },
   "outputs": [],
   "source": [
    "# Here the X variable contains all the columns from the dataset, except the \"Class\" column. \n",
    "# The y variable contains the values from the \"Class\" column. \n",
    "# The X variable is the attribute set and y variable contains corresponding labels."
   ]
  },
  {
   "cell_type": "code",
   "execution_count": 52,
   "metadata": {
    "pycharm": {
     "is_executing": false
    }
   },
   "outputs": [],
   "source": [
    "# Divide the data into training and test sets\n",
    "from sklearn.model_selection import train_test_split\n",
    "#x_train, x_test, y_train, y_test = train_test_split(x, y, test_size=0.40)"
   ]
  },
  {
   "cell_type": "code",
   "execution_count": 53,
   "metadata": {
    "pycharm": {
     "is_executing": false
    }
   },
   "outputs": [],
   "source": [
    "# The model_selection library of Scikit-Learn contains train_test_split method.\n",
    "# We can use it to randomly split the data into training and testing sets.\n",
    "# The test_size parameter specifies the ratio of the test set.\n",
    "# We split up 20% of the data in to the test set and 80% for training.\n",
    "x_train, x_test, y_train, y_test = train_test_split(x, y, test_size=0.20)"
   ]
  },
  {
   "cell_type": "code",
   "execution_count": 54,
   "metadata": {
    "pycharm": {
     "is_executing": false
    }
   },
   "outputs": [],
   "source": [
    "# Now we can train the naive bayes algorithm on this data and make predictions. \n",
    "# Scikit-Learn contains the sklearn.naive_bayes library, \n",
    "# which contains built-in classes/methods for various naive bayes algorithms. "
   ]
  },
  {
   "cell_type": "code",
   "execution_count": 55,
   "metadata": {
    "pycharm": {
     "is_executing": false
    }
   },
   "outputs": [],
   "source": [
    "# Import the GaussianNB class from the sklearn.naive_bayes library. "
   ]
  },
  {
   "cell_type": "code",
   "execution_count": 56,
   "metadata": {
    "pycharm": {
     "is_executing": false
    }
   },
   "outputs": [
    {
     "data": {
      "text/plain": "GaussianNB(priors=None, var_smoothing=1e-09)"
     },
     "metadata": {},
     "output_type": "execute_result",
     "execution_count": 56
    }
   ],
   "source": [
    "from sklearn.naive_bayes import GaussianNB\n",
    "nv = GaussianNB() # create a classifier\n",
    "nv.fit(x_train,y_train) # fitting the data"
   ]
  },
  {
   "cell_type": "code",
   "execution_count": 57,
   "metadata": {
    "pycharm": {
     "is_executing": false
    }
   },
   "outputs": [],
   "source": [
    "# For more information refer\n",
    "# https://scikit-learn.org/stable/modules/generated/sklearn.naive_bayes.GaussianNB.html"
   ]
  },
  {
   "cell_type": "code",
   "execution_count": 58,
   "metadata": {
    "pycharm": {
     "is_executing": false
    }
   },
   "outputs": [],
   "source": [
    "# The final step is to make predictions on our test data."
   ]
  },
  {
   "cell_type": "code",
   "execution_count": 59,
   "metadata": {
    "pycharm": {
     "is_executing": false
    }
   },
   "outputs": [],
   "source": [
    "y_pred = nv.predict(x_test) # store the prediction data"
   ]
  },
  {
   "cell_type": "code",
   "execution_count": 60,
   "metadata": {
    "pycharm": {
     "is_executing": false
    }
   },
   "outputs": [
    {
     "name": "stdout",
     "text": [
      "Accuracy: 1.0\n"
     ],
     "output_type": "stream"
    }
   ],
   "source": [
    "# Model Accuracy, how often is the classifier correct?\n",
    "print(\"Accuracy:\",metrics.accuracy_score(y_test, y_pred))"
   ]
  },
  {
   "cell_type": "code",
   "execution_count": 61,
   "metadata": {
    "pycharm": {
     "is_executing": false
    }
   },
   "outputs": [],
   "source": [
    "# Download the wine.csv and create a Jupyter Notebook “NaiveBayesWine.ipynb”. Do the following\n",
    "\n",
    "#     a) Clean the dataset if necessary\n",
    "\n",
    "#     b) Find the accuracy of GaussianNB clasiifier for test data.\n",
    "#          i) 30% from the total dataset\n",
    "#         ii) 40% from the total dataset\n",
    "#         iv) 50% from the total dataset\n",
    "\n",
    "#     c) Submit the “NaiveBayesWine.ipynb”"
   ]
  },
  {
   "cell_type": "code",
   "execution_count": 62,
   "metadata": {
    "pycharm": {
     "is_executing": false
    }
   },
   "outputs": [
    {
     "data": {
      "text/plain": "(178, 14)"
     },
     "metadata": {},
     "output_type": "execute_result",
     "execution_count": 62
    }
   ],
   "source": [
    "wine_data = pd.read_csv(\"wine.csv\")\n",
    "wine_data.shape"
   ]
  },
  {
   "cell_type": "code",
   "execution_count": 63,
   "outputs": [
    {
     "data": {
      "text/plain": "<bound method NDFrame.head of      Wine  Alcohol  Malic.acid   Ash   Acl   Mg  Phenols  Flavanoids  \\\n0       1    14.23        1.71  2.43  15.6  127     2.80        3.06   \n1       1    13.20        1.78  2.14  11.2  100     2.65        2.76   \n2       1    13.16        2.36  2.67  18.6  101     2.80        3.24   \n3       1    14.37        1.95  2.50  16.8  113     3.85        3.49   \n4       1    13.24        2.59  2.87  21.0  118     2.80        2.69   \n5       1    14.20        1.76  2.45  15.2  112     3.27        3.39   \n6       1    14.39        1.87  2.45  14.6   96     2.50        2.52   \n7       1    14.06        2.15  2.61  17.6  121     2.60        2.51   \n8       1    14.83        1.64  2.17  14.0   97     2.80        2.98   \n9       1    13.86        1.35  2.27  16.0   98     2.98        3.15   \n10      1    14.10        2.16  2.30  18.0  105     2.95        3.32   \n11      1    14.12        1.48  2.32  16.8   95     2.20        2.43   \n12      1    13.75        1.73  2.41  16.0   89     2.60        2.76   \n13      1    14.75        1.73  2.39  11.4   91     3.10        3.69   \n14      1    14.38        1.87  2.38  12.0  102     3.30        3.64   \n15      1    13.63        1.81  2.70  17.2  112     2.85        2.91   \n16      1    14.30        1.92  2.72  20.0  120     2.80        3.14   \n17      1    13.83        1.57  2.62  20.0  115     2.95        3.40   \n18      1    14.19        1.59  2.48  16.5  108     3.30        3.93   \n19      1    13.64        3.10  2.56  15.2  116     2.70        3.03   \n20      1    14.06        1.63  2.28  16.0  126     3.00        3.17   \n21      1    12.93        3.80  2.65  18.6  102     2.41        2.41   \n22      1    13.71        1.86  2.36  16.6  101     2.61        2.88   \n23      1    12.85        1.60  2.52  17.8   95     2.48        2.37   \n24      1    13.50        1.81  2.61  20.0   96     2.53        2.61   \n25      1    13.05        2.05  3.22  25.0  124     2.63        2.68   \n26      1    13.39        1.77  2.62  16.1   93     2.85        2.94   \n27      1    13.30        1.72  2.14  17.0   94     2.40        2.19   \n28      1    13.87        1.90  2.80  19.4  107     2.95        2.97   \n29      1    14.02        1.68  2.21  16.0   96     2.65        2.33   \n..    ...      ...         ...   ...   ...  ...      ...         ...   \n148     3    13.32        3.24  2.38  21.5   92     1.93        0.76   \n149     3    13.08        3.90  2.36  21.5  113     1.41        1.39   \n150     3    13.50        3.12  2.62  24.0  123     1.40        1.57   \n151     3    12.79        2.67  2.48  22.0  112     1.48        1.36   \n152     3    13.11        1.90  2.75  25.5  116     2.20        1.28   \n153     3    13.23        3.30  2.28  18.5   98     1.80        0.83   \n154     3    12.58        1.29  2.10  20.0  103     1.48        0.58   \n155     3    13.17        5.19  2.32  22.0   93     1.74        0.63   \n156     3    13.84        4.12  2.38  19.5   89     1.80        0.83   \n157     3    12.45        3.03  2.64  27.0   97     1.90        0.58   \n158     3    14.34        1.68  2.70  25.0   98     2.80        1.31   \n159     3    13.48        1.67  2.64  22.5   89     2.60        1.10   \n160     3    12.36        3.83  2.38  21.0   88     2.30        0.92   \n161     3    13.69        3.26  2.54  20.0  107     1.83        0.56   \n162     3    12.85        3.27  2.58  22.0  106     1.65        0.60   \n163     3    12.96        3.45  2.35  18.5  106     1.39        0.70   \n164     3    13.78        2.76  2.30  22.0   90     1.35        0.68   \n165     3    13.73        4.36  2.26  22.5   88     1.28        0.47   \n166     3    13.45        3.70  2.60  23.0  111     1.70        0.92   \n167     3    12.82        3.37  2.30  19.5   88     1.48        0.66   \n168     3    13.58        2.58  2.69  24.5  105     1.55        0.84   \n169     3    13.40        4.60  2.86  25.0  112     1.98        0.96   \n170     3    12.20        3.03  2.32  19.0   96     1.25        0.49   \n171     3    12.77        2.39  2.28  19.5   86     1.39        0.51   \n172     3    14.16        2.51  2.48  20.0   91     1.68        0.70   \n173     3    13.71        5.65  2.45  20.5   95     1.68        0.61   \n174     3    13.40        3.91  2.48  23.0  102     1.80        0.75   \n175     3    13.27        4.28  2.26  20.0  120     1.59        0.69   \n176     3    13.17        2.59  2.37  20.0  120     1.65        0.68   \n177     3    14.13        4.10  2.74  24.5   96     2.05        0.76   \n\n     Nonflavanoid.phenols  Proanth  Color.int   Hue    OD  Proline  \n0                    0.28     2.29   5.640000  1.04  3.92     1065  \n1                    0.26     1.28   4.380000  1.05  3.40     1050  \n2                    0.30     2.81   5.680000  1.03  3.17     1185  \n3                    0.24     2.18   7.800000  0.86  3.45     1480  \n4                    0.39     1.82   4.320000  1.04  2.93      735  \n5                    0.34     1.97   6.750000  1.05  2.85     1450  \n6                    0.30     1.98   5.250000  1.02  3.58     1290  \n7                    0.31     1.25   5.050000  1.06  3.58     1295  \n8                    0.29     1.98   5.200000  1.08  2.85     1045  \n9                    0.22     1.85   7.220000  1.01  3.55     1045  \n10                   0.22     2.38   5.750000  1.25  3.17     1510  \n11                   0.26     1.57   5.000000  1.17  2.82     1280  \n12                   0.29     1.81   5.600000  1.15  2.90     1320  \n13                   0.43     2.81   5.400000  1.25  2.73     1150  \n14                   0.29     2.96   7.500000  1.20  3.00     1547  \n15                   0.30     1.46   7.300000  1.28  2.88     1310  \n16                   0.33     1.97   6.200000  1.07  2.65     1280  \n17                   0.40     1.72   6.600000  1.13  2.57     1130  \n18                   0.32     1.86   8.700000  1.23  2.82     1680  \n19                   0.17     1.66   5.100000  0.96  3.36      845  \n20                   0.24     2.10   5.650000  1.09  3.71      780  \n21                   0.25     1.98   4.500000  1.03  3.52      770  \n22                   0.27     1.69   3.800000  1.11  4.00     1035  \n23                   0.26     1.46   3.930000  1.09  3.63     1015  \n24                   0.28     1.66   3.520000  1.12  3.82      845  \n25                   0.47     1.92   3.580000  1.13  3.20      830  \n26                   0.34     1.45   4.800000  0.92  3.22     1195  \n27                   0.27     1.35   3.950000  1.02  2.77     1285  \n28                   0.37     1.76   4.500000  1.25  3.40      915  \n29                   0.26     1.98   4.700000  1.04  3.59     1035  \n..                    ...      ...        ...   ...   ...      ...  \n148                  0.45     1.25   8.420000  0.55  1.62      650  \n149                  0.34     1.14   9.400000  0.57  1.33      550  \n150                  0.22     1.25   8.600000  0.59  1.30      500  \n151                  0.24     1.26  10.800000  0.48  1.47      480  \n152                  0.26     1.56   7.100000  0.61  1.33      425  \n153                  0.61     1.87  10.520000  0.56  1.51      675  \n154                  0.53     1.40   7.600000  0.58  1.55      640  \n155                  0.61     1.55   7.900000  0.60  1.48      725  \n156                  0.48     1.56   9.010000  0.57  1.64      480  \n157                  0.63     1.14   7.500000  0.67  1.73      880  \n158                  0.53     2.70  13.000000  0.57  1.96      660  \n159                  0.52     2.29  11.750000  0.57  1.78      620  \n160                  0.50     1.04   7.650000  0.56  1.58      520  \n161                  0.50     0.80   5.880000  0.96  1.82      680  \n162                  0.60     0.96   5.580000  0.87  2.11      570  \n163                  0.40     0.94   5.280000  0.68  1.75      675  \n164                  0.41     1.03   9.580000  0.70  1.68      615  \n165                  0.52     1.15   6.620000  0.78  1.75      520  \n166                  0.43     1.46  10.680000  0.85  1.56      695  \n167                  0.40     0.97  10.260000  0.72  1.75      685  \n168                  0.39     1.54   8.660000  0.74  1.80      750  \n169                  0.27     1.11   8.500000  0.67  1.92      630  \n170                  0.40     0.73   5.500000  0.66  1.83      510  \n171                  0.48     0.64   9.899999  0.57  1.63      470  \n172                  0.44     1.24   9.700000  0.62  1.71      660  \n173                  0.52     1.06   7.700000  0.64  1.74      740  \n174                  0.43     1.41   7.300000  0.70  1.56      750  \n175                  0.43     1.35  10.200000  0.59  1.56      835  \n176                  0.53     1.46   9.300000  0.60  1.62      840  \n177                  0.56     1.35   9.200000  0.61  1.60      560  \n\n[178 rows x 14 columns]>"
     },
     "metadata": {},
     "output_type": "execute_result",
     "execution_count": 63
    }
   ],
   "source": [
    "wine_data.head"
   ],
   "metadata": {
    "collapsed": false,
    "pycharm": {
     "name": "#%%\n",
     "is_executing": false
    }
   }
  },
  {
   "cell_type": "code",
   "execution_count": 64,
   "outputs": [
    {
     "name": "stdout",
     "text": [
      "<class 'pandas.core.frame.DataFrame'>\nRangeIndex: 178 entries, 0 to 177\nData columns (total 14 columns):\nWine                    178 non-null int64\nAlcohol                 178 non-null float64\nMalic.acid              178 non-null float64\nAsh                     178 non-null float64\nAcl                     178 non-null float64\nMg                      178 non-null int64\nPhenols                 178 non-null float64\nFlavanoids              178 non-null float64\nNonflavanoid.phenols    178 non-null float64\nProanth                 178 non-null float64\nColor.int               178 non-null float64\nHue                     178 non-null float64\nOD                      178 non-null float64\nProline                 178 non-null int64\ndtypes: float64(11), int64(3)\nmemory usage: 19.5 KB\n"
     ],
     "output_type": "stream"
    }
   ],
   "source": [
    "wine_data.info()"
   ],
   "metadata": {
    "collapsed": false,
    "pycharm": {
     "name": "#%%\n",
     "is_executing": false
    }
   }
  },
  {
   "cell_type": "code",
   "execution_count": 65,
   "outputs": [],
   "source": [
    "winex = wine_data.drop('Wine', axis=1)\n",
    "winey = wine_data['Wine']\n"
   ],
   "metadata": {
    "collapsed": false,
    "pycharm": {
     "name": "#%%\n",
     "is_executing": false
    }
   }
  },
  {
   "cell_type": "code",
   "execution_count": 66,
   "outputs": [
    {
     "name": "stdout",
     "text": [
      "Accuracy(test_size=0.3): 0.9629629629629629\nAccuracy(test_size=0.4): 1.0\nAccuracy(test_size=0.5): 0.9775280898876404\n"
     ],
     "output_type": "stream"
    }
   ],
   "source": [
    "for s in np.arange(0.3,0.51,0.1):    \n",
    "    winex_train, winex_test, winey_train, winey_test = train_test_split(winex, winey, test_size=s)\n",
    "    winenv = GaussianNB() # create a classifier\n",
    "    winenv.fit(winex_train,winey_train) \n",
    "    winey_pred = winenv.predict(winex_test)\n",
    "    print(\"Accuracy(test_size={}):\".format(s),metrics.accuracy_score(winey_test, winey_pred))"
   ],
   "metadata": {
    "collapsed": false,
    "pycharm": {
     "name": "#%%\n",
     "is_executing": false
    }
   }
  },
  {
   "cell_type": "code",
   "execution_count": 66,
   "outputs": [],
   "source": [],
   "metadata": {
    "collapsed": false,
    "pycharm": {
     "name": "#%%\n",
     "is_executing": false
    }
   }
  }
 ],
 "metadata": {
  "kernelspec": {
   "display_name": "Python 3",
   "language": "python",
   "name": "python3"
  },
  "language_info": {
   "codemirror_mode": {
    "name": "ipython",
    "version": 3
   },
   "file_extension": ".py",
   "mimetype": "text/x-python",
   "name": "python",
   "nbconvert_exporter": "python",
   "pygments_lexer": "ipython3",
   "version": "3.7.4"
  },
  "pycharm": {
   "stem_cell": {
    "cell_type": "raw",
    "source": [],
    "metadata": {
     "collapsed": false
    }
   }
  }
 },
 "nbformat": 4,
 "nbformat_minor": 2
}